{
 "cells": [
  {
   "cell_type": "code",
   "execution_count": 1,
   "id": "ea8adc11-5b6f-4c96-9357-45081a4dc7f8",
   "metadata": {},
   "outputs": [],
   "source": [
    "import numpy as np\n",
    "import scipy as sp\n",
    "import matplotlib as mpl\n",
    "import pandas as pd\n",
    "import csv\n",
    "from scipy.optimize import curve_fit\n",
    "import matplotlib.pyplot as plt\n",
    "from scipy.interpolate import CubicSpline\n",
    "from scipy import integrate\n",
    "from lmfit import minimize, Parameters, Parameter, report_fit\n",
    "from sklearn import datasets\n",
    "from sklearn.linear_model import LinearRegression\n",
    "import random\n",
    "from shapely.geometry import Polygon\n",
    "from shapely.geometry import Point\n"
   ]
  },
  {
   "cell_type": "code",
   "execution_count": 2,
   "id": "3c2515e6-efba-4fcf-829b-65173f4b18bf",
   "metadata": {},
   "outputs": [],
   "source": [
    "def calculate_iou(box_1, box_2):\n",
    "    poly_1 = Polygon(box_1)\n",
    "    poly_2 = Polygon(box_2)\n",
    "    iou = poly_2.intersection(poly_1).area / poly_1.union(poly_2).area\n",
    "    proportion=poly_2.area/(poly_1.union(poly_2).area)\n",
    "    return (iou/proportion)"
   ]
  },
  {
   "cell_type": "code",
   "execution_count": 3,
   "id": "57c28cf2-056c-45b4-ae27-f73f378f6d91",
   "metadata": {},
   "outputs": [],
   "source": [
    "sizematrix=pd.read_csv('sizematrix.csv',header=None)"
   ]
  },
  {
   "cell_type": "code",
   "execution_count": 4,
   "id": "f66a1f16-4efc-4e7b-b68d-025ba615cbdd",
   "metadata": {},
   "outputs": [
    {
     "data": {
      "text/html": [
       "<div>\n",
       "<style scoped>\n",
       "    .dataframe tbody tr th:only-of-type {\n",
       "        vertical-align: middle;\n",
       "    }\n",
       "\n",
       "    .dataframe tbody tr th {\n",
       "        vertical-align: top;\n",
       "    }\n",
       "\n",
       "    .dataframe thead th {\n",
       "        text-align: right;\n",
       "    }\n",
       "</style>\n",
       "<table border=\"1\" class=\"dataframe\">\n",
       "  <thead>\n",
       "    <tr style=\"text-align: right;\">\n",
       "      <th></th>\n",
       "      <th>0</th>\n",
       "    </tr>\n",
       "  </thead>\n",
       "  <tbody>\n",
       "    <tr>\n",
       "      <th>0</th>\n",
       "      <td>2.000</td>\n",
       "    </tr>\n",
       "    <tr>\n",
       "      <th>1</th>\n",
       "      <td>2.018</td>\n",
       "    </tr>\n",
       "    <tr>\n",
       "      <th>2</th>\n",
       "      <td>2.036</td>\n",
       "    </tr>\n",
       "    <tr>\n",
       "      <th>3</th>\n",
       "      <td>2.054</td>\n",
       "    </tr>\n",
       "    <tr>\n",
       "      <th>4</th>\n",
       "      <td>2.072</td>\n",
       "    </tr>\n",
       "    <tr>\n",
       "      <th>...</th>\n",
       "      <td>...</td>\n",
       "    </tr>\n",
       "    <tr>\n",
       "      <th>2996</th>\n",
       "      <td>1992.800</td>\n",
       "    </tr>\n",
       "    <tr>\n",
       "      <th>2997</th>\n",
       "      <td>1994.600</td>\n",
       "    </tr>\n",
       "    <tr>\n",
       "      <th>2998</th>\n",
       "      <td>1996.400</td>\n",
       "    </tr>\n",
       "    <tr>\n",
       "      <th>2999</th>\n",
       "      <td>1998.200</td>\n",
       "    </tr>\n",
       "    <tr>\n",
       "      <th>3000</th>\n",
       "      <td>2000.000</td>\n",
       "    </tr>\n",
       "  </tbody>\n",
       "</table>\n",
       "<p>3001 rows × 1 columns</p>\n",
       "</div>"
      ],
      "text/plain": [
       "             0\n",
       "0        2.000\n",
       "1        2.018\n",
       "2        2.036\n",
       "3        2.054\n",
       "4        2.072\n",
       "...        ...\n",
       "2996  1992.800\n",
       "2997  1994.600\n",
       "2998  1996.400\n",
       "2999  1998.200\n",
       "3000  2000.000\n",
       "\n",
       "[3001 rows x 1 columns]"
      ]
     },
     "execution_count": 4,
     "metadata": {},
     "output_type": "execute_result"
    }
   ],
   "source": [
    "diametermatrix=sizematrix*2\n",
    "diametermatrix"
   ]
  },
  {
   "cell_type": "code",
   "execution_count": 5,
   "id": "4c1503db-f1da-4b5c-9577-00615a0dca67",
   "metadata": {},
   "outputs": [
    {
     "data": {
      "text/html": [
       "<div>\n",
       "<style scoped>\n",
       "    .dataframe tbody tr th:only-of-type {\n",
       "        vertical-align: middle;\n",
       "    }\n",
       "\n",
       "    .dataframe tbody tr th {\n",
       "        vertical-align: top;\n",
       "    }\n",
       "\n",
       "    .dataframe thead th {\n",
       "        text-align: right;\n",
       "    }\n",
       "</style>\n",
       "<table border=\"1\" class=\"dataframe\">\n",
       "  <thead>\n",
       "    <tr style=\"text-align: right;\">\n",
       "      <th></th>\n",
       "      <th>Particle#</th>\n",
       "      <th>Time</th>\n",
       "      <th>AREA</th>\n",
       "      <th>Convex Area</th>\n",
       "      <th>Perimeter</th>\n",
       "      <th>Convex Perim</th>\n",
       "      <th>xLF</th>\n",
       "      <th>minordiameter</th>\n",
       "      <th>majordiameter</th>\n",
       "    </tr>\n",
       "  </thead>\n",
       "  <tbody>\n",
       "    <tr>\n",
       "      <th>0</th>\n",
       "      <td>0</td>\n",
       "      <td>0.0</td>\n",
       "      <td>332942.7</td>\n",
       "      <td>341797.5</td>\n",
       "      <td>2055.729</td>\n",
       "      <td>2037.096</td>\n",
       "      <td>673.7574</td>\n",
       "      <td>643.8961</td>\n",
       "      <td>676.7117</td>\n",
       "    </tr>\n",
       "    <tr>\n",
       "      <th>1</th>\n",
       "      <td>1</td>\n",
       "      <td>0.0</td>\n",
       "      <td>317470.0</td>\n",
       "      <td>324320.8</td>\n",
       "      <td>2003.469</td>\n",
       "      <td>1990.272</td>\n",
       "      <td>646.8503</td>\n",
       "      <td>617.8869</td>\n",
       "      <td>662.8671</td>\n",
       "    </tr>\n",
       "    <tr>\n",
       "      <th>2</th>\n",
       "      <td>2</td>\n",
       "      <td>1.0</td>\n",
       "      <td>378149.1</td>\n",
       "      <td>387097.1</td>\n",
       "      <td>2187.851</td>\n",
       "      <td>2175.869</td>\n",
       "      <td>698.0094</td>\n",
       "      <td>695.8275</td>\n",
       "      <td>713.7173</td>\n",
       "    </tr>\n",
       "    <tr>\n",
       "      <th>3</th>\n",
       "      <td>3</td>\n",
       "      <td>2.0</td>\n",
       "      <td>466977.2</td>\n",
       "      <td>478069.1</td>\n",
       "      <td>2439.205</td>\n",
       "      <td>2426.809</td>\n",
       "      <td>799.5746</td>\n",
       "      <td>768.8830</td>\n",
       "      <td>806.5934</td>\n",
       "    </tr>\n",
       "    <tr>\n",
       "      <th>4</th>\n",
       "      <td>4</td>\n",
       "      <td>2.0</td>\n",
       "      <td>319334.2</td>\n",
       "      <td>326511.2</td>\n",
       "      <td>2012.767</td>\n",
       "      <td>1989.422</td>\n",
       "      <td>648.5399</td>\n",
       "      <td>634.8884</td>\n",
       "      <td>656.7848</td>\n",
       "    </tr>\n",
       "    <tr>\n",
       "      <th>...</th>\n",
       "      <td>...</td>\n",
       "      <td>...</td>\n",
       "      <td>...</td>\n",
       "      <td>...</td>\n",
       "      <td>...</td>\n",
       "      <td>...</td>\n",
       "      <td>...</td>\n",
       "      <td>...</td>\n",
       "      <td>...</td>\n",
       "    </tr>\n",
       "    <tr>\n",
       "      <th>7425</th>\n",
       "      <td>13293</td>\n",
       "      <td>294.0</td>\n",
       "      <td>298175.7</td>\n",
       "      <td>306191.7</td>\n",
       "      <td>1947.686</td>\n",
       "      <td>1936.844</td>\n",
       "      <td>646.8503</td>\n",
       "      <td>598.5779</td>\n",
       "      <td>651.4459</td>\n",
       "    </tr>\n",
       "    <tr>\n",
       "      <th>7426</th>\n",
       "      <td>13294</td>\n",
       "      <td>294.0</td>\n",
       "      <td>318961.3</td>\n",
       "      <td>331497.9</td>\n",
       "      <td>2025.481</td>\n",
       "      <td>1989.567</td>\n",
       "      <td>655.3656</td>\n",
       "      <td>641.7142</td>\n",
       "      <td>660.4728</td>\n",
       "    </tr>\n",
       "    <tr>\n",
       "      <th>7427</th>\n",
       "      <td>13296</td>\n",
       "      <td>295.0</td>\n",
       "      <td>283169.0</td>\n",
       "      <td>290812.2</td>\n",
       "      <td>1892.568</td>\n",
       "      <td>1884.758</td>\n",
       "      <td>607.5856</td>\n",
       "      <td>600.7502</td>\n",
       "      <td>618.6400</td>\n",
       "    </tr>\n",
       "    <tr>\n",
       "      <th>7428</th>\n",
       "      <td>13297</td>\n",
       "      <td>296.0</td>\n",
       "      <td>329680.3</td>\n",
       "      <td>338069.2</td>\n",
       "      <td>2046.065</td>\n",
       "      <td>2030.791</td>\n",
       "      <td>682.6781</td>\n",
       "      <td>641.7142</td>\n",
       "      <td>683.9042</td>\n",
       "    </tr>\n",
       "    <tr>\n",
       "      <th>7429</th>\n",
       "      <td>13300</td>\n",
       "      <td>299.0</td>\n",
       "      <td>480585.8</td>\n",
       "      <td>491817.5</td>\n",
       "      <td>2473.382</td>\n",
       "      <td>2460.966</td>\n",
       "      <td>805.5604</td>\n",
       "      <td>764.5964</td>\n",
       "      <td>817.9567</td>\n",
       "    </tr>\n",
       "  </tbody>\n",
       "</table>\n",
       "<p>7430 rows × 9 columns</p>\n",
       "</div>"
      ],
      "text/plain": [
       "      Particle#   Time      AREA   Convex Area   Perimeter   Convex Perim  \\\n",
       "0             0    0.0  332942.7      341797.5    2055.729       2037.096   \n",
       "1             1    0.0  317470.0      324320.8    2003.469       1990.272   \n",
       "2             2    1.0  378149.1      387097.1    2187.851       2175.869   \n",
       "3             3    2.0  466977.2      478069.1    2439.205       2426.809   \n",
       "4             4    2.0  319334.2      326511.2    2012.767       1989.422   \n",
       "...         ...    ...       ...           ...         ...            ...   \n",
       "7425      13293  294.0  298175.7      306191.7    1947.686       1936.844   \n",
       "7426      13294  294.0  318961.3      331497.9    2025.481       1989.567   \n",
       "7427      13296  295.0  283169.0      290812.2    1892.568       1884.758   \n",
       "7428      13297  296.0  329680.3      338069.2    2046.065       2030.791   \n",
       "7429      13300  299.0  480585.8      491817.5    2473.382       2460.966   \n",
       "\n",
       "           xLF  minordiameter  majordiameter  \n",
       "0     673.7574       643.8961       676.7117  \n",
       "1     646.8503       617.8869       662.8671  \n",
       "2     698.0094       695.8275       713.7173  \n",
       "3     799.5746       768.8830       806.5934  \n",
       "4     648.5399       634.8884       656.7848  \n",
       "...        ...            ...            ...  \n",
       "7425  646.8503       598.5779       651.4459  \n",
       "7426  655.3656       641.7142       660.4728  \n",
       "7427  607.5856       600.7502       618.6400  \n",
       "7428  682.6781       641.7142       683.9042  \n",
       "7429  805.5604       764.5964       817.9567  \n",
       "\n",
       "[7430 rows x 9 columns]"
      ]
     },
     "execution_count": 5,
     "metadata": {},
     "output_type": "execute_result"
    }
   ],
   "source": [
    "particledata=pd.read_csv('ASR230_ETproxy_filteredGT300.csv')\n",
    "particledata.rename(columns = {' xFmin':'minordiameter', ' xFmax':'majordiameter', ' Area':'AREA'}, inplace = True)\n",
    "#particledata.rename(columns = {'BOUNDING RECT HEIGHT':'minordiameter', 'MAX FERET DIAMETER':'majordiameter'}, inplace = True)\n",
    "particledata"
   ]
  },
  {
   "cell_type": "code",
   "execution_count": 6,
   "id": "ad10921a-675b-49fc-abfa-89e2b6d1bed2",
   "metadata": {},
   "outputs": [
    {
     "data": {
      "text/plain": [
       "array([651.08817511, 635.77933142, 693.88355502, ..., 600.45147068,\n",
       "       647.89041904, 782.24091251])"
      ]
     },
     "execution_count": 6,
     "metadata": {},
     "output_type": "execute_result"
    }
   ],
   "source": [
    "areaeqdiameter=np.array(np.sqrt(4*particledata.AREA/np.pi))\n",
    "areaeqdiameter"
   ]
  },
  {
   "cell_type": "code",
   "execution_count": 7,
   "id": "80c2d682-14cd-4c7f-af2a-74891755d3d7",
   "metadata": {},
   "outputs": [
    {
     "data": {
      "text/plain": [
       "array([521.45176055, 500.19404201, 592.76984922, ..., 507.57755375,\n",
       "       470.7378716 , 604.75679405])"
      ]
     },
     "execution_count": 7,
     "metadata": {},
     "output_type": "execute_result"
    }
   ],
   "source": [
    "x_rc=np.empty((len(areaeqdiameter),1))\n",
    "for q in range (0,len(areaeqdiameter),1):\n",
    "    a=(np.pi-2)/8\n",
    "    b=(particledata.majordiameter[q]-particledata.minordiameter[q])\n",
    "    c=((4*particledata.majordiameter[q]*particledata.minordiameter[q]+(np.pi-2)*particledata.minordiameter[q]**2)/8)-particledata.AREA[q]\n",
    "    x_rc[q]=(-b+np.sqrt((b**2)-4*a*c))/(2*a)\n",
    "x_rc=x_rc.flatten()\n",
    "x_rc"
   ]
  },
  {
   "cell_type": "code",
   "execution_count": 8,
   "id": "bd758a53-76c8-43fb-8d8c-8a3c08a13e0a",
   "metadata": {},
   "outputs": [
    {
     "data": {
      "text/plain": [
       "array([[643.8961   ],\n",
       "       [617.8869   ],\n",
       "       [695.8275   ],\n",
       "       ...,\n",
       "       [600.7502   ],\n",
       "       [470.7378716],\n",
       "       [764.5964   ]])"
      ]
     },
     "execution_count": 8,
     "metadata": {},
     "output_type": "execute_result"
    }
   ],
   "source": [
    "diameters=np.empty((len(x_rc),1))\n",
    "for n in range (0,len(x_rc),1):\n",
    "    total=int(particledata.minordiameter[n])+int(x_rc[n])\n",
    "    binom=random.randint(0, total)\n",
    "    if binom <= int(particledata.minordiameter[n]):\n",
    "        diameters[n]=particledata.minordiameter[n]\n",
    "    else: \n",
    "        diameters[n]=x_rc[n]\n",
    "diameters"
   ]
  },
  {
   "cell_type": "code",
   "execution_count": 9,
   "id": "596f86d8-9e22-41f3-b6a2-1c0e6cda6a3f",
   "metadata": {},
   "outputs": [
    {
     "data": {
      "text/plain": [
       "611.2812765545087"
      ]
     },
     "execution_count": 9,
     "metadata": {},
     "output_type": "execute_result"
    }
   ],
   "source": [
    "average=np.average(particledata.minordiameter)\n",
    "average"
   ]
  },
  {
   "cell_type": "code",
   "execution_count": 10,
   "id": "3beb0099-1708-4984-a5f0-6b88bf5ab3a9",
   "metadata": {},
   "outputs": [
    {
     "data": {
      "text/plain": [
       "array([[2247.],\n",
       "       [2232.],\n",
       "       [2275.],\n",
       "       ...,\n",
       "       [2223.],\n",
       "       [2150.],\n",
       "       [2314.]])"
      ]
     },
     "execution_count": 10,
     "metadata": {},
     "output_type": "execute_result"
    }
   ],
   "source": [
    "indices=np.empty((len(particledata),1))\n",
    "for n in range (0,len(indices),1):\n",
    "    array = np.asarray(diametermatrix)\n",
    "    value=diameters[n]\n",
    "    idx = (np.abs(array - value)).argmin()\n",
    "    indices[n]=idx\n",
    "indices"
   ]
  },
  {
   "cell_type": "code",
   "execution_count": 11,
   "id": "10b5a1f9-59e0-4d0a-8877-32872b921cf6",
   "metadata": {},
   "outputs": [
    {
     "data": {
      "text/plain": [
       "array([[644.6],\n",
       "       [617.6],\n",
       "       [695. ],\n",
       "       ...,\n",
       "       [601.4],\n",
       "       [470. ],\n",
       "       [765.2]])"
      ]
     },
     "execution_count": 11,
     "metadata": {},
     "output_type": "execute_result"
    }
   ],
   "source": [
    "contactradiii=np.empty((len(indices),1))\n",
    "for g in range (0,len(indices),1):\n",
    "    diametermatrix2=np.array(diametermatrix)\n",
    "    contactradiii[g]=diametermatrix2[int(indices[g])]\n",
    "contactradiii"
   ]
  },
  {
   "cell_type": "code",
   "execution_count": 12,
   "id": "dcec3fd5-49f7-42f8-8aa5-d97931df57d6",
   "metadata": {},
   "outputs": [],
   "source": [
    "totalelements=np.empty((3000,1))\n",
    "for x in range(1,3001,1):\n",
    "    with open(r'C:\\Users\\lfeltner\\Dropbox\\CSEE\\ParticleSelector\\UpdatedParticles\\shot{}.inp'.format(\"{:04d}\".format(x))) as p:\n",
    "        for line in p:\n",
    "            pass\n",
    "        last_line = line\n",
    "        totalelements[x-1]=int(last_line[0:4])"
   ]
  },
  {
   "cell_type": "code",
   "execution_count": 13,
   "id": "e0b2567d-6dab-4d4c-82ca-7ffe4d472cfb",
   "metadata": {},
   "outputs": [
    {
     "data": {
      "text/plain": [
       "5"
      ]
     },
     "execution_count": 13,
     "metadata": {},
     "output_type": "execute_result"
    }
   ],
   "source": [
    "length = 5\n",
    "length"
   ]
  },
  {
   "cell_type": "code",
   "execution_count": 14,
   "id": "d179bdfa-a58b-4fa6-94f1-e6932c1af8e5",
   "metadata": {},
   "outputs": [
    {
     "data": {
      "text/plain": [
       "5"
      ]
     },
     "execution_count": 14,
     "metadata": {},
     "output_type": "execute_result"
    }
   ],
   "source": [
    "width=5\n",
    "width"
   ]
  },
  {
   "cell_type": "code",
   "execution_count": 15,
   "id": "b38a6bb2-eeb4-4cf0-9ba9-47c073ff503f",
   "metadata": {},
   "outputs": [
    {
     "name": "stdin",
     "output_type": "stream",
     "text": [
      "Mass flow rate (kg/s): 0.0945\n"
     ]
    }
   ],
   "source": [
    "massflowrate_kg=float(input(\"Mass flow rate (kg/s):\"))\n",
    "##  0.188997 kg/s"
   ]
  },
  {
   "cell_type": "code",
   "execution_count": 16,
   "id": "1783beed-56ea-45c0-92c5-6b12252ba264",
   "metadata": {},
   "outputs": [
    {
     "name": "stdin",
     "output_type": "stream",
     "text": [
      "Peening time (s): 20\n"
     ]
    }
   ],
   "source": [
    "peeningtime=float(input(\"Peening time (s):\"))\n",
    "## 40 s"
   ]
  },
  {
   "cell_type": "code",
   "execution_count": 17,
   "id": "2d29b542-940f-4a15-bfe1-9f4e06efa2f3",
   "metadata": {},
   "outputs": [
    {
     "name": "stdin",
     "output_type": "stream",
     "text": [
      "Total Peened Part Area (mm^2): 49100\n"
     ]
    }
   ],
   "source": [
    "partarea=float(input(\"Total Peened Part Area (mm^2):\"))\n",
    "## 23300 mm^2 or 49100 mm^2"
   ]
  },
  {
   "cell_type": "code",
   "execution_count": 18,
   "id": "75a8606c-ed45-49c0-92f4-bababdd4bb5d",
   "metadata": {},
   "outputs": [
    {
     "name": "stdin",
     "output_type": "stream",
     "text": [
      "Impact Angle (degrees): 30\n"
     ]
    }
   ],
   "source": [
    "thetacenter=float(input(\"Impact Angle (degrees):\"))"
   ]
  },
  {
   "cell_type": "code",
   "execution_count": 19,
   "id": "93334010-97d0-4cea-a67e-ff6a566510e6",
   "metadata": {},
   "outputs": [
    {
     "name": "stdin",
     "output_type": "stream",
     "text": [
      "Impact velocity  (mm/s): 65000\n"
     ]
    }
   ],
   "source": [
    "velo=float(input(\"Impact velocity  (mm/s):\"))"
   ]
  },
  {
   "cell_type": "code",
   "execution_count": 20,
   "id": "663b8af4-2338-4c22-b3c1-7d5360791240",
   "metadata": {
    "tags": []
   },
   "outputs": [
    {
     "data": {
      "text/plain": [
       "0.0009623217922606923"
      ]
     },
     "execution_count": 20,
     "metadata": {},
     "output_type": "execute_result"
    }
   ],
   "source": [
    "particlemass_kg=(length*width/partarea)*peeningtime*massflowrate_kg\n",
    "particlemass_mt=particlemass_kg/1000\n",
    "particlemass_kg"
   ]
  },
  {
   "cell_type": "code",
   "execution_count": 21,
   "id": "d4f2198f-d59d-4f2b-b138-918efb35df11",
   "metadata": {},
   "outputs": [
    {
     "data": {
      "text/plain": [
       "'\\ncoverage=float(input(\"Coverage (%): \"))/100\\ncoverage\\n'"
      ]
     },
     "execution_count": 21,
     "metadata": {},
     "output_type": "execute_result"
    }
   ],
   "source": [
    "'''\n",
    "coverage=float(input(\"Coverage (%): \"))/100\n",
    "coverage\n",
    "'''"
   ]
  },
  {
   "cell_type": "code",
   "execution_count": 22,
   "id": "5f8bd3aa-7573-4a74-a3dc-c3c5b08581a9",
   "metadata": {},
   "outputs": [
    {
     "name": "stdin",
     "output_type": "stream",
     "text": [
      "Job Name: (No Spaces, Cannot begin with number) S230_Proxy_0945_20_49100_65000_30\n"
     ]
    },
    {
     "data": {
      "text/plain": [
       "'S230_Proxy_0945_20_49100_65000_30'"
      ]
     },
     "execution_count": 22,
     "metadata": {},
     "output_type": "execute_result"
    }
   ],
   "source": [
    "jobname=input(\"Job Name: (No Spaces, Cannot begin with number)\")\n",
    "jobname"
   ]
  },
  {
   "cell_type": "code",
   "execution_count": 23,
   "id": "5ce17f65-6ae3-4901-8c46-57f62b8c17b3",
   "metadata": {},
   "outputs": [
    {
     "name": "stdin",
     "output_type": "stream",
     "text": [
      "Strip Type: (N, A, or C) A\n"
     ]
    },
    {
     "data": {
      "text/plain": [
       "'A'"
      ]
     },
     "execution_count": 23,
     "metadata": {},
     "output_type": "execute_result"
    }
   ],
   "source": [
    "striptype=input(\"Strip Type: (N, A, or C)\")\n",
    "striptype"
   ]
  },
  {
   "cell_type": "code",
   "execution_count": 24,
   "id": "acd30ec7-de86-407b-b1f2-36d76b787baf",
   "metadata": {},
   "outputs": [
    {
     "data": {
      "text/plain": [
       "'\\ndimplesize=0.0439\\n\\nn_impacts= int(length*width*coverage/dimplesize)\\nn_impacts\\n'"
      ]
     },
     "execution_count": 24,
     "metadata": {},
     "output_type": "execute_result"
    }
   ],
   "source": [
    "'''\n",
    "dimplesize=0.0439\n",
    "\n",
    "n_impacts= int(length*width*coverage/dimplesize)\n",
    "n_impacts\n",
    "'''"
   ]
  },
  {
   "cell_type": "code",
   "execution_count": 25,
   "id": "1cb0120b-3310-479a-a548-24833c655de7",
   "metadata": {},
   "outputs": [
    {
     "data": {
      "text/plain": [
       "'\\nimpacts=random.sample(range(0, len(particledata)-1), n_impacts)\\n#impacts\\n'"
      ]
     },
     "execution_count": 25,
     "metadata": {},
     "output_type": "execute_result"
    }
   ],
   "source": [
    "'''\n",
    "impacts=random.sample(range(0, len(particledata)-1), n_impacts)\n",
    "#impacts\n",
    "'''"
   ]
  },
  {
   "cell_type": "code",
   "execution_count": 26,
   "id": "faa0177c-e042-4f1e-b077-67e5434e08fc",
   "metadata": {},
   "outputs": [
    {
     "data": {
      "text/plain": [
       "7.980000000000001e-09"
      ]
     },
     "execution_count": 26,
     "metadata": {},
     "output_type": "execute_result"
    }
   ],
   "source": [
    "density=7.98*10**-9\n",
    "density"
   ]
  },
  {
   "cell_type": "code",
   "execution_count": 27,
   "id": "bde0ee9a-69e7-42d5-981c-96d850438d9e",
   "metadata": {},
   "outputs": [
    {
     "data": {
      "text/plain": [
       "array([7.388e+03, 5.636e+03, 3.970e+03, 5.371e+03, 2.505e+03, 2.262e+03,\n",
       "       4.250e+02, 2.610e+03, 4.569e+03, 2.026e+03, 5.530e+02, 3.507e+03,\n",
       "       1.046e+03, 2.699e+03, 4.522e+03, 6.616e+03, 2.122e+03, 3.179e+03,\n",
       "       1.975e+03, 4.623e+03, 6.303e+03, 2.491e+03, 6.622e+03, 1.919e+03,\n",
       "       1.444e+03, 1.408e+03, 4.610e+02, 2.618e+03, 4.920e+02, 4.451e+03,\n",
       "       7.287e+03, 3.657e+03, 5.268e+03, 6.202e+03, 4.384e+03, 2.545e+03,\n",
       "       4.325e+03, 7.363e+03, 1.373e+03, 6.337e+03, 6.040e+03, 3.832e+03,\n",
       "       4.953e+03, 6.872e+03, 2.272e+03, 4.325e+03, 1.136e+03, 4.590e+02,\n",
       "       2.625e+03, 2.218e+03, 2.092e+03, 3.752e+03, 2.888e+03, 2.202e+03,\n",
       "       5.307e+03, 6.028e+03, 1.531e+03, 1.842e+03, 4.331e+03, 5.966e+03,\n",
       "       4.230e+02, 5.414e+03, 6.689e+03, 2.521e+03, 6.663e+03, 8.690e+02,\n",
       "       4.300e+02, 2.467e+03, 1.442e+03, 3.826e+03, 4.669e+03, 3.703e+03,\n",
       "       1.540e+03, 3.223e+03, 2.368e+03, 2.630e+02, 4.894e+03, 5.153e+03,\n",
       "       6.197e+03, 4.993e+03, 6.909e+03, 2.530e+03, 3.906e+03, 7.271e+03,\n",
       "       9.380e+02, 2.094e+03, 3.076e+03, 3.997e+03, 2.385e+03, 7.000e+02,\n",
       "       3.006e+03, 3.376e+03, 7.231e+03, 6.170e+03, 3.766e+03, 5.099e+03,\n",
       "       7.311e+03, 3.486e+03, 5.852e+03, 1.180e+02, 2.590e+02, 6.089e+03,\n",
       "       7.265e+03, 5.897e+03, 4.111e+03, 3.881e+03, 8.840e+02, 4.617e+03,\n",
       "       1.846e+03, 1.726e+03, 6.293e+03, 3.700e+01, 2.109e+03, 5.120e+03,\n",
       "       3.049e+03, 3.920e+02, 2.024e+03, 7.128e+03, 6.440e+03, 3.144e+03,\n",
       "       3.833e+03, 3.715e+03, 6.264e+03, 1.669e+03, 4.685e+03, 5.989e+03,\n",
       "       5.264e+03, 3.140e+03, 4.098e+03, 7.323e+03, 4.624e+03, 6.187e+03,\n",
       "       1.862e+03, 4.310e+02, 3.710e+02, 6.690e+03, 3.190e+03, 2.134e+03,\n",
       "       2.427e+03, 8.210e+02, 4.140e+03, 4.232e+03, 3.021e+03, 5.416e+03,\n",
       "       4.451e+03, 3.213e+03, 2.265e+03, 3.547e+03, 1.754e+03, 3.007e+03,\n",
       "       9.780e+02, 4.611e+03, 5.604e+03, 1.371e+03, 3.958e+03, 7.450e+02,\n",
       "       2.343e+03, 5.519e+03, 6.603e+03, 1.356e+03, 2.580e+02, 5.380e+03,\n",
       "       1.520e+03, 6.095e+03, 1.804e+03, 5.438e+03, 2.261e+03, 1.436e+03,\n",
       "       3.070e+02, 2.562e+03, 3.872e+03, 5.790e+02, 6.565e+03, 4.215e+03,\n",
       "       5.809e+03, 4.402e+03, 1.340e+02, 6.957e+03, 6.654e+03, 5.725e+03,\n",
       "       5.788e+03, 3.255e+03, 1.295e+03, 6.569e+03, 4.316e+03, 3.267e+03,\n",
       "       1.056e+03, 5.729e+03, 6.046e+03, 6.326e+03, 3.754e+03, 6.819e+03,\n",
       "       6.450e+03, 7.240e+03, 5.856e+03, 1.552e+03, 4.796e+03, 1.057e+03,\n",
       "       1.218e+03, 6.252e+03, 1.310e+03, 9.240e+02, 2.764e+03, 5.900e+03,\n",
       "       3.664e+03, 1.245e+03, 5.607e+03, 7.228e+03, 4.318e+03, 4.287e+03,\n",
       "       1.777e+03, 1.323e+03, 9.240e+02, 4.845e+03, 3.442e+03, 5.577e+03,\n",
       "       4.625e+03, 4.099e+03, 1.800e+01, 6.707e+03, 2.562e+03, 5.898e+03,\n",
       "       1.618e+03, 2.676e+03, 1.639e+03, 1.256e+03, 2.014e+03, 4.637e+03,\n",
       "       4.173e+03, 3.580e+03, 2.298e+03, 3.817e+03, 1.207e+03, 3.675e+03,\n",
       "       1.616e+03, 9.110e+02, 4.931e+03, 2.197e+03, 5.198e+03, 6.110e+03,\n",
       "       3.884e+03, 6.502e+03, 4.605e+03, 3.078e+03, 2.859e+03, 3.934e+03,\n",
       "       4.261e+03, 7.680e+02, 3.747e+03, 1.373e+03, 6.680e+02, 7.401e+03,\n",
       "       2.707e+03, 3.334e+03, 2.162e+03, 4.429e+03, 3.431e+03, 6.617e+03,\n",
       "       1.150e+02, 1.444e+03, 7.233e+03, 4.941e+03, 7.330e+02, 2.000e+00,\n",
       "       6.786e+03, 5.458e+03, 6.400e+03, 1.526e+03, 4.937e+03, 5.608e+03,\n",
       "       6.527e+03, 2.971e+03, 4.243e+03, 3.205e+03, 1.444e+03, 3.530e+02,\n",
       "       1.483e+03, 7.750e+02, 4.056e+03, 8.790e+02, 6.313e+03, 2.446e+03,\n",
       "       5.940e+03, 2.553e+03, 3.973e+03, 2.495e+03, 2.805e+03, 5.113e+03,\n",
       "       1.815e+03, 3.033e+03, 3.170e+03, 7.031e+03, 6.293e+03, 1.797e+03,\n",
       "       1.482e+03, 6.043e+03, 4.958e+03, 5.530e+03, 5.380e+02, 6.407e+03,\n",
       "       4.813e+03, 1.896e+03, 1.192e+03, 1.150e+02, 1.632e+03, 2.041e+03,\n",
       "       2.010e+03, 4.103e+03, 2.183e+03, 5.772e+03, 6.110e+03, 4.720e+02,\n",
       "       6.920e+03, 2.597e+03, 2.260e+02, 3.289e+03, 3.925e+03, 4.626e+03,\n",
       "       2.800e+01, 3.343e+03, 2.312e+03, 1.871e+03, 3.992e+03, 8.590e+02,\n",
       "       4.960e+03, 5.387e+03, 3.173e+03, 1.910e+03, 4.868e+03, 3.534e+03,\n",
       "       1.006e+03, 6.281e+03, 2.959e+03, 5.144e+03, 2.580e+03, 3.695e+03,\n",
       "       7.050e+02, 3.542e+03, 7.510e+02, 2.923e+03, 2.791e+03, 5.686e+03,\n",
       "       9.880e+02, 5.380e+03, 5.029e+03, 3.466e+03, 4.357e+03, 3.112e+03,\n",
       "       3.530e+02, 4.517e+03, 3.188e+03, 5.983e+03, 2.670e+02, 1.824e+03,\n",
       "       7.233e+03, 3.499e+03, 9.240e+02, 5.460e+03, 1.431e+03, 3.550e+03,\n",
       "       5.712e+03, 6.789e+03, 3.343e+03, 4.431e+03, 1.070e+02, 4.500e+02,\n",
       "       6.359e+03, 5.275e+03, 6.900e+01, 2.780e+03, 5.921e+03, 3.875e+03,\n",
       "       2.075e+03, 5.172e+03, 3.650e+03, 5.083e+03, 2.042e+03, 5.252e+03,\n",
       "       4.370e+02, 2.528e+03, 5.152e+03, 2.400e+01, 2.944e+03, 3.044e+03,\n",
       "       5.324e+03, 4.928e+03, 7.930e+02, 5.083e+03, 3.470e+03, 1.118e+03,\n",
       "       7.220e+02, 6.246e+03, 6.719e+03, 3.163e+03, 1.961e+03, 3.346e+03,\n",
       "       7.253e+03, 1.207e+03, 5.854e+03, 4.540e+03, 4.536e+03, 7.134e+03,\n",
       "       3.227e+03, 5.488e+03, 1.440e+02, 6.780e+02, 4.653e+03, 3.430e+02,\n",
       "       6.441e+03, 2.724e+03, 6.098e+03, 4.215e+03, 1.784e+03, 7.297e+03,\n",
       "       1.912e+03, 2.453e+03, 4.249e+03, 2.624e+03, 5.532e+03, 6.640e+03,\n",
       "       5.164e+03, 2.998e+03, 5.400e+01, 2.981e+03, 4.023e+03, 6.149e+03,\n",
       "       9.100e+02, 1.387e+03, 1.082e+03, 1.007e+03, 1.707e+03, 4.224e+03,\n",
       "       5.591e+03, 2.699e+03, 2.500e+03, 5.959e+03, 2.914e+03, 1.517e+03,\n",
       "       4.573e+03, 4.230e+02, 1.702e+03, 8.600e+02, 4.571e+03, 4.060e+02,\n",
       "       7.022e+03, 5.924e+03, 4.292e+03, 2.219e+03, 5.785e+03, 6.956e+03,\n",
       "       4.465e+03, 2.290e+03, 1.200e+03, 3.734e+03, 2.203e+03, 2.668e+03,\n",
       "       1.418e+03, 7.095e+03, 6.153e+03, 3.781e+03, 1.991e+03, 4.805e+03,\n",
       "       4.092e+03, 1.168e+03, 3.629e+03, 6.430e+02, 4.517e+03, 1.888e+03,\n",
       "       6.307e+03, 3.660e+03, 6.606e+03, 1.869e+03, 6.692e+03, 1.095e+03,\n",
       "       5.310e+03, 2.019e+03, 4.012e+03, 1.475e+03, 2.610e+03, 4.506e+03,\n",
       "       4.231e+03, 1.066e+03, 6.170e+03, 4.789e+03, 5.370e+03, 1.493e+03,\n",
       "       3.740e+02, 5.283e+03, 7.380e+03, 6.886e+03, 3.654e+03, 8.670e+02,\n",
       "       2.412e+03, 6.837e+03, 4.948e+03, 4.300e+01, 3.093e+03, 2.867e+03,\n",
       "       1.839e+03, 7.340e+02, 4.565e+03, 5.129e+03, 5.067e+03, 1.725e+03,\n",
       "       6.780e+02, 7.210e+02, 5.329e+03, 1.018e+03, 5.628e+03, 5.765e+03,\n",
       "       7.133e+03, 6.348e+03, 4.505e+03, 5.311e+03, 3.077e+03, 5.082e+03,\n",
       "       3.652e+03, 4.720e+02, 2.765e+03, 3.044e+03, 9.080e+02, 5.910e+03,\n",
       "       1.426e+03, 6.307e+03, 3.780e+02, 1.012e+03, 3.023e+03, 3.976e+03,\n",
       "       4.422e+03, 2.488e+03, 3.774e+03, 7.241e+03, 4.691e+03, 2.096e+03,\n",
       "       4.658e+03, 1.399e+03, 2.764e+03, 2.952e+03, 4.558e+03, 3.621e+03,\n",
       "       6.540e+02, 3.320e+03, 4.088e+03, 2.274e+03, 5.285e+03, 6.511e+03,\n",
       "       6.457e+03, 1.957e+03, 1.521e+03, 5.000e+02, 1.601e+03, 3.172e+03,\n",
       "       6.625e+03, 9.240e+02, 7.371e+03, 6.763e+03, 4.700e+01, 2.580e+03,\n",
       "       5.820e+02, 9.420e+02, 5.166e+03, 7.379e+03, 9.240e+02, 2.127e+03,\n",
       "       4.477e+03, 4.602e+03, 7.310e+03, 4.169e+03, 4.140e+02, 5.792e+03,\n",
       "       7.700e+01, 6.069e+03, 1.884e+03, 4.940e+03, 4.206e+03, 6.044e+03,\n",
       "       6.778e+03, 2.028e+03, 1.290e+03, 2.062e+03, 5.920e+03, 4.610e+03,\n",
       "       5.732e+03, 1.144e+03, 2.657e+03, 3.767e+03, 3.150e+03, 1.466e+03,\n",
       "       3.361e+03, 1.778e+03, 2.676e+03, 2.979e+03, 6.914e+03, 3.895e+03,\n",
       "       1.262e+03, 6.694e+03, 6.519e+03, 7.259e+03, 7.354e+03, 6.865e+03,\n",
       "       5.482e+03, 6.891e+03, 1.347e+03, 6.263e+03, 4.705e+03, 2.152e+03,\n",
       "       1.443e+03, 3.433e+03, 1.278e+03, 5.932e+03, 7.352e+03, 5.680e+03,\n",
       "       4.928e+03, 3.225e+03, 2.348e+03, 3.851e+03, 1.002e+03, 1.780e+03,\n",
       "       8.620e+02, 2.270e+03, 4.803e+03, 1.580e+03, 2.049e+03, 5.759e+03,\n",
       "       7.282e+03, 7.050e+03, 1.603e+03, 1.031e+03, 6.856e+03, 5.093e+03,\n",
       "       4.420e+03, 3.350e+03, 3.486e+03, 6.753e+03, 3.726e+03, 1.200e+02,\n",
       "       4.226e+03, 1.004e+03, 1.703e+03, 4.264e+03, 3.336e+03, 5.762e+03,\n",
       "       2.058e+03, 6.108e+03, 4.511e+03, 3.408e+03, 5.753e+03, 7.385e+03,\n",
       "       5.714e+03, 5.304e+03, 1.125e+03, 3.739e+03, 1.697e+03, 2.045e+03,\n",
       "       6.865e+03, 2.602e+03, 6.645e+03, 1.512e+03, 5.462e+03, 5.048e+03,\n",
       "       5.782e+03, 4.319e+03, 5.106e+03, 4.159e+03, 1.340e+03, 6.857e+03,\n",
       "       5.403e+03, 1.704e+03, 5.424e+03, 1.226e+03, 4.371e+03, 5.559e+03,\n",
       "       6.430e+02, 8.110e+02, 4.023e+03, 3.743e+03, 6.502e+03, 3.000e+01,\n",
       "       7.260e+02, 6.012e+03, 2.595e+03, 4.165e+03, 3.140e+03, 1.485e+03,\n",
       "       3.038e+03, 1.545e+03, 6.140e+03, 2.195e+03, 4.515e+03, 6.707e+03,\n",
       "       3.095e+03, 5.455e+03, 2.600e+03, 4.790e+03, 1.546e+03, 4.456e+03,\n",
       "       2.241e+03, 4.289e+03, 6.054e+03, 4.510e+02, 1.655e+03, 1.561e+03,\n",
       "       3.510e+02, 6.970e+03, 2.508e+03, 5.854e+03, 5.280e+02, 5.602e+03,\n",
       "       2.102e+03, 3.754e+03, 6.764e+03, 3.323e+03, 5.154e+03, 6.650e+03,\n",
       "       5.063e+03, 2.990e+03, 6.430e+03, 4.841e+03, 6.940e+03, 6.183e+03,\n",
       "       5.351e+03, 5.389e+03, 4.077e+03, 6.509e+03, 5.822e+03, 7.094e+03,\n",
       "       1.447e+03, 3.471e+03, 5.840e+03, 1.006e+03, 3.916e+03, 5.055e+03,\n",
       "       5.236e+03, 6.610e+03, 2.490e+03, 1.463e+03, 2.828e+03, 1.997e+03,\n",
       "       6.102e+03, 6.640e+03, 7.252e+03, 4.091e+03, 1.786e+03, 4.341e+03,\n",
       "       1.460e+03, 6.345e+03, 5.138e+03, 1.890e+03, 2.974e+03, 1.424e+03,\n",
       "       4.275e+03, 2.301e+03, 5.347e+03, 2.174e+03, 5.270e+02, 6.662e+03,\n",
       "       1.670e+02, 3.255e+03, 3.877e+03, 7.800e+01, 3.930e+03, 1.259e+03,\n",
       "       3.462e+03, 2.153e+03, 4.966e+03, 3.652e+03, 9.300e+01, 3.242e+03,\n",
       "       4.861e+03, 3.819e+03, 4.085e+03, 7.163e+03, 5.300e+01, 1.829e+03,\n",
       "       8.750e+02, 4.650e+02, 6.392e+03, 4.128e+03, 7.370e+02, 6.284e+03,\n",
       "       3.085e+03, 2.946e+03, 6.580e+03, 6.679e+03, 6.288e+03, 7.297e+03,\n",
       "       3.041e+03, 2.759e+03, 7.095e+03, 5.388e+03, 6.384e+03, 3.660e+03,\n",
       "       3.105e+03, 6.313e+03, 5.757e+03, 2.690e+02, 1.157e+03, 2.753e+03,\n",
       "       5.971e+03, 5.970e+02, 2.092e+03, 4.455e+03, 2.042e+03, 3.958e+03,\n",
       "       3.647e+03, 5.334e+03, 1.350e+02, 2.518e+03, 3.260e+03, 4.764e+03,\n",
       "       9.740e+02, 9.550e+02, 5.733e+03, 1.219e+03, 2.388e+03, 6.986e+03,\n",
       "       4.417e+03, 8.930e+02, 5.510e+03, 2.148e+03, 1.744e+03, 2.476e+03,\n",
       "       3.697e+03, 8.380e+02, 8.430e+02, 5.130e+03, 1.191e+03, 4.100e+02,\n",
       "       1.543e+03, 3.863e+03, 2.545e+03, 3.440e+03, 4.179e+03, 6.190e+03,\n",
       "       2.457e+03, 5.922e+03, 4.246e+03, 6.409e+03, 3.604e+03, 7.206e+03,\n",
       "       3.233e+03, 3.332e+03, 2.995e+03, 3.685e+03, 1.918e+03, 7.059e+03,\n",
       "       1.292e+03, 2.833e+03, 1.211e+03, 4.587e+03, 4.072e+03, 5.014e+03,\n",
       "       9.230e+02, 2.056e+03, 4.292e+03, 7.720e+02, 2.213e+03, 6.040e+02,\n",
       "       6.057e+03, 1.031e+03, 2.290e+02, 4.612e+03, 5.938e+03, 5.321e+03,\n",
       "       6.220e+03, 2.887e+03, 1.406e+03, 2.793e+03, 3.315e+03, 4.935e+03,\n",
       "       3.732e+03, 5.711e+03, 1.917e+03, 1.788e+03, 5.917e+03, 5.097e+03])"
      ]
     },
     "execution_count": 27,
     "metadata": {},
     "output_type": "execute_result"
    }
   ],
   "source": [
    "rollingmass=0\n",
    "m=0\n",
    "impacts=np.empty((0,1))\n",
    "while rollingmass < particlemass_mt:\n",
    "    impacts=np.append(impacts,random.sample(range(0, len(particledata)-1), 1))\n",
    "    radius=areaeqdiameter[int(impacts[m])]/2000\n",
    "    particlemass=(4/3)*np.pi*density*radius**3\n",
    "    m=m+1\n",
    "    rollingmass=rollingmass+particlemass\n",
    "impacts"
   ]
  },
  {
   "cell_type": "code",
   "execution_count": 28,
   "id": "a6775fb9-b1ca-4f14-825d-493286396f5c",
   "metadata": {},
   "outputs": [
    {
     "name": "stdout",
     "output_type": "stream",
     "text": [
      "876,9.627419283392328e-07,9.623217922606923e-07\n"
     ]
    }
   ],
   "source": [
    "print(\"{},{},{}\".format(len(impacts), rollingmass, particlemass_mt))"
   ]
  },
  {
   "cell_type": "code",
   "execution_count": 29,
   "id": "e5128522-6b08-4ac8-9be2-7609eaf3df57",
   "metadata": {},
   "outputs": [
    {
     "data": {
      "text/plain": [
       "7.980000000000001e-09"
      ]
     },
     "execution_count": 29,
     "metadata": {},
     "output_type": "execute_result"
    }
   ],
   "source": [
    "density=7.98*10**-9\n",
    "density"
   ]
  },
  {
   "cell_type": "code",
   "execution_count": 30,
   "id": "8aae79a2-025c-4e03-90b9-41caa44a04aa",
   "metadata": {},
   "outputs": [],
   "source": [
    "def find_nearest(array, value):\n",
    "    array = np.asarray(array)\n",
    "    idx = (np.abs(array - value)).argmin()\n",
    "    return idx"
   ]
  },
  {
   "cell_type": "code",
   "execution_count": 31,
   "id": "7fcc042d-84e5-4508-80ab-fadf3495500e",
   "metadata": {},
   "outputs": [],
   "source": [
    "particles_call=np.empty((len(impacts),1))\n",
    "for x in range (0,len(impacts),1):\n",
    "    particles_call[x]=find_nearest(diametermatrix,diameters[int(impacts[x])])"
   ]
  },
  {
   "cell_type": "code",
   "execution_count": 32,
   "id": "bcc78bf5-69cc-4085-926c-e2527f947847",
   "metadata": {},
   "outputs": [
    {
     "data": {
      "text/plain": [
       "0.3213243690972288"
      ]
     },
     "execution_count": 32,
     "metadata": {},
     "output_type": "execute_result"
    }
   ],
   "source": [
    "radius=areaeqdiameter[int(impacts[5])]/2000\n",
    "radius"
   ]
  },
  {
   "cell_type": "code",
   "execution_count": 33,
   "id": "12aac97c-bf44-4f7e-8cb4-95069836a347",
   "metadata": {},
   "outputs": [],
   "source": [
    "#xcoord=np.empty((len(impacts),1))\n",
    "#ycoord=np.empty((len(impacts),1))\n",
    "#zcoord=np.empty((len(impacts),1))\n",
    "xcoord=[float(random.randint(0, 5000))/1000 for _ in range(len(impacts))]\n",
    "ycoord=[float(random.randint(0, 5000))/1000 for _ in range(len(impacts))]\n",
    "zcoord=[float(random.randint(3000, 6000))/1000 for _ in range(len(impacts))]\n",
    "theta=[np.random.normal(loc=thetacenter, scale=.1) for _ in range(len(impacts))]\n",
    "phi=[np.random.normal(loc=0, scale=.1) for _ in range(len(impacts))]\n",
    "#theta=[float(np.random.normal(90, sigma))/1000 for _ in range(len(impacts))]\n",
    "#phi=[float(random.randint(0, 360000))/1000 for _ in range(len(impacts))]\n",
    "\n"
   ]
  },
  {
   "cell_type": "code",
   "execution_count": 34,
   "id": "c37c91ed-fc20-47d3-960b-dc8719a521ce",
   "metadata": {},
   "outputs": [],
   "source": [
    "header=(\"*Heading\\n** Job name: {} Model name: {}\\n** Generated by: LAF INP Generator\\n*Preprint, echo=NO, model=NO, history=NO, contact=NO\\n**\\n** PARTS\\n\".format(jobname,jobname))\n",
    "textheader=(\"x,y,AreaEqDiameter,impactdiameter\\n\")\n",
    "f=open('{}.inp'.format(jobname),'a+')\n",
    "t=open('{}.txt'.format(jobname),'a+')\n",
    "f.write(header)\n",
    "t.write(textheader)\n",
    "for x in range (0,len(impacts),1):\n",
    "    name=\"shot\"\n",
    "    radius=areaeqdiameter[int(impacts[x])]/2000\n",
    "    mass=(4/3)*np.pi*density*radius**3\n",
    "    #############################################################\n",
    "    box=[[0,0],[0,5],[5,5],[5,0]]\n",
    "    contactradius=diameters[x]/2000\n",
    "    circle=Point(xcoord[x],ycoord[x]).buffer(contactradius)\n",
    "    intersect=calculate_iou(box,circle)\n",
    "    mass=mass*intersect\n",
    "    #######################################################################################\n",
    "    temp=(\"**\\n*Part, name={}{}\\n\" .format(name, \"{:05d}\".format(x)))\n",
    "    f.write(temp)\n",
    "    j=int(particles_call[x])\n",
    "    temp=open(r\"C:\\Users\\lfeltner\\Dropbox\\CSEE\\ParticleSelector\\UpdatedParticles - Copy (2)\\{}{}.inp\".format(name, \"{:02d}\".format(j)),'r')\n",
    "    f.write((temp.read()[22:]))\n",
    "    temp=\"*ELSET, ELSET=E{}, GENERATE\\n 1,     {} \\n*Node\\n      1,           0.,           0.,           0.\\n*Nset, nset=shot{}-RefPt_, internal\\n1, \\n*Nset, nset=Set-1\\n 1,\\n*Rigid Body, ref node=shot{}-RefPt_, ELSET=E{}\\n*Element, type=MASS, elset=Set-1_Inertia-1_\\n{}, 1\\n*Mass, elset=Set-1_Inertia-1_\\n{}, \\n\".format(\"{:05d}\".format(x),\"{:04d}\".format(int(totalelements[int(particles_call[x])-1])), \"{:05d}\".format(x),\"{:05d}\".format(x),\"{:05d}\".format(x),\"{:04d}\".format(int(totalelements[int(particles_call[x])-1])),'{:.20f}'.format(mass))\n",
    "    f.write(temp)\n",
    "    temp=(\"*End Part\\n\")\n",
    "    f.write(temp)\n",
    "substrate=open(\"{}_Subs_Part.txt\".format(striptype))\n",
    "f.write(substrate.read())\n",
    "f.write(\"\\n**\\n**\\n** ASSEMBLY\\n**\\n*Assembly, name={}_assembly\\n**  \\n*Instance, name={}_SUBS-1, part={}_SUBS\\n 0,0,-1.295\\n*End Instance\\n\".format(jobname, striptype, striptype))\n",
    "for x in range (0,len(impacts),1):\n",
    "    #xcoord=float(random.randint(0, 5000))/1000\n",
    "    #ycoord=float(random.randint(0, 5000))/1000\n",
    "    #zcoord=float(random.randint(3000, 6000))/1000\n",
    "    radius=areaeqdiameter[int(impacts[x])]/2000\n",
    "    #########################################################################\n",
    "    adjx=xcoord[x]+((zcoord[x]-radius)*np.sin(np.radians(90-theta[x]))*np.cos(np.radians(phi[x])))\n",
    "    adjy=ycoord[x]+((zcoord[x]-radius)*np.sin(np.radians(90-theta[x]))*np.sin(np.radians(phi[x])))\n",
    "    adjz=(zcoord[x]-(0.65*radius))*np.cos(np.radians(90-theta[x]))\n",
    "    ##adjz=(zcoord[x]+1.295-radius)*np.cos(np.radians(90-theta[x]))\n",
    "    ########################################################################\n",
    "    temp=(\"**  \\n*Instance, name=shot{}, part=shot{}\\n{},    {},          {}\\n{},    {},          {}, {},    {},          {}, {}\\n*End Instance\\n\" .format(\"{:05d}\".format(x),\"{:05d}\".format(x), adjx, adjy, adjz, adjx, adjy, adjz, adjx, adjy+1, adjz, int(90)))\n",
    "    f.write(temp)\n",
    "    temp3=(\"{},{},{},{}\\n\".format(xcoord[x],ycoord[x],radius*2,float(contactradiii[int(impacts[x])]/1000)))\n",
    "    t.write(temp3)\n",
    "#temp=open(\"{}_elsets.inp\".format(striptype),'r')\n",
    "#f.write(temp.read())\n",
    "f.write(\"**\\n\")\n",
    "for x in range (0,len(impacts),1):\n",
    "    temp=(\"*Nset, nset=RefPts, instance=shot{}\\n 1,\\n\".format(\"{:05d}\".format(x)))\n",
    "    f.write(temp)\n",
    "for x in range (0,len(impacts),1):\n",
    "    temp=(\"*Nset, nset=SHOT{}_VeloSet, instance=shot{}\\n 1,\\n\".format(\"{:05d}\".format(x),\"{:05d}\".format(x)))\n",
    "    f.write(temp)\n",
    "    ##Assign velocity to each nset based on phi and theta\n",
    "subssets=open(\"{}_Subs_Sets.txt\".format(striptype))\n",
    "f.write(subssets.read())\n",
    "f.write(\"\\n*End Assembly\\n\")\n",
    "materials=open(\"{}_Subs_Mats.txt\".format(striptype))\n",
    "f.write(materials.read())\n",
    "f.write(\"\\n**\\n ** PREDEFINED FIELDS \\n\")\n",
    "for x in range (0,len(impacts),1):\n",
    "    xvelo=-velo*np.sin(np.radians(90-theta[x]))*np.cos(np.radians(phi[x]))\n",
    "    yvelo=-velo*np.sin(np.radians(90-theta[x]))*np.sin(np.radians(phi[x]))\n",
    "    zvelo=-velo*np.cos(np.radians(90-theta[x]))\n",
    "    temp=(\"** \\n** Name: ShotVelo{}   Type: Velocity\\n*Initial Conditions, type=VELOCITY\\nSHOT{}_VeloSet, 1, {}\\nSHOT{}_VeloSet, 2, {}\\nSHOT{}_VeloSet, 3, {}\\n\".format(\"{:05d}\".format(x),\"{:05d}\".format(x), xvelo,\"{:05d}\".format(x), yvelo, \"{:05d}\".format(x), zvelo))\n",
    "    f.write(temp)\n",
    "#temp=open\"BCsAndSteps.inp\", 'r')\n",
    "#f.write(temp.read())\n",
    "ints=open(\"{}_Subs_Ints.txt\".format(striptype))\n",
    "f.write(ints.read())\n",
    "f.close()\n",
    "t.close()\n",
    "#change analytical surface to elset of all elements-rigid body definition"
   ]
  },
  {
   "cell_type": "code",
   "execution_count": null,
   "id": "658cfa85-79f1-4fc5-91c4-054d6eb8c352",
   "metadata": {},
   "outputs": [],
   "source": []
  },
  {
   "cell_type": "code",
   "execution_count": 35,
   "id": "800491f2-db99-4827-ad68-4ff8f926895d",
   "metadata": {},
   "outputs": [
    {
     "data": {
      "text/plain": [
       "0.31620518482891724"
      ]
     },
     "execution_count": 35,
     "metadata": {},
     "output_type": "execute_result"
    }
   ],
   "source": [
    "radius"
   ]
  },
  {
   "cell_type": "code",
   "execution_count": 36,
   "id": "efa66464-9834-4f2e-a9f8-af31dae3a883",
   "metadata": {},
   "outputs": [
    {
     "name": "stdout",
     "output_type": "stream",
     "text": [
      "0.00000000100506811151\n"
     ]
    }
   ],
   "source": [
    "print('{:.20f}'.format(mass))"
   ]
  },
  {
   "cell_type": "code",
   "execution_count": 37,
   "id": "2ad8d721-dec1-430d-b7a9-67a53da4c454",
   "metadata": {},
   "outputs": [
    {
     "name": "stdout",
     "output_type": "stream",
     "text": [
      "\n"
     ]
    }
   ],
   "source": [
    "temp=open(r\"C:\\Users\\lfeltner\\Dropbox\\CSEE\\ParticleSelector\\UpdatedParticles\\shot2166.inp\", 'r')\n",
    "print(temp.read()[len(temp.read())-4:len(temp.read())])"
   ]
  },
  {
   "cell_type": "code",
   "execution_count": 38,
   "id": "c8e089fe-f688-4d35-9545-93c746365fce",
   "metadata": {},
   "outputs": [
    {
     "data": {
      "text/plain": [
       "'3189,'"
      ]
     },
     "execution_count": 38,
     "metadata": {},
     "output_type": "execute_result"
    }
   ],
   "source": [
    "temp=open(r\"C:\\Users\\lfeltner\\Dropbox\\CSEE\\ParticleSelector\\UpdatedParticles\\shot2166.inp\", 'r')\n",
    "data=temp.read()\n",
    "data[-20:-15]"
   ]
  },
  {
   "cell_type": "code",
   "execution_count": 39,
   "id": "7c8c3adc-36ee-436e-8d1f-3774949d486d",
   "metadata": {},
   "outputs": [],
   "source": [
    "totalelements=np.empty((3000,1))\n",
    "for x in range(1,3001,1):\n",
    "    with open(r'C:\\Users\\lfeltner\\Dropbox\\CSEE\\ParticleSelector\\UpdatedParticles\\shot{}.inp'.format(\"{:04d}\".format(x))) as p:\n",
    "        for line in p:\n",
    "            pass\n",
    "        last_line = line\n",
    "        totalelements[x-1]=int(last_line[0:4])\n"
   ]
  },
  {
   "cell_type": "code",
   "execution_count": 40,
   "id": "7b804885-02a0-49d6-875e-523d2cdf75bd",
   "metadata": {},
   "outputs": [
    {
     "data": {
      "text/plain": [
       "array([3211.])"
      ]
     },
     "execution_count": 40,
     "metadata": {},
     "output_type": "execute_result"
    }
   ],
   "source": [
    "totalelements[2092]"
   ]
  },
  {
   "cell_type": "code",
   "execution_count": null,
   "id": "34e25e15-4803-4668-9279-6f52be7219b5",
   "metadata": {},
   "outputs": [],
   "source": []
  },
  {
   "cell_type": "code",
   "execution_count": null,
   "id": "3c7afd0f-dc51-4e49-b455-442fe0948655",
   "metadata": {},
   "outputs": [],
   "source": []
  }
 ],
 "metadata": {
  "kernelspec": {
   "display_name": "Python 3 (ipykernel)",
   "language": "python",
   "name": "python3"
  },
  "language_info": {
   "codemirror_mode": {
    "name": "ipython",
    "version": 3
   },
   "file_extension": ".py",
   "mimetype": "text/x-python",
   "name": "python",
   "nbconvert_exporter": "python",
   "pygments_lexer": "ipython3",
   "version": "3.9.13"
  }
 },
 "nbformat": 4,
 "nbformat_minor": 5
}
