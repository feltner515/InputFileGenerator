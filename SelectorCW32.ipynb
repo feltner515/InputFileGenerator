{
 "cells": [
  {
   "cell_type": "code",
   "execution_count": 1,
   "id": "ea8adc11-5b6f-4c96-9357-45081a4dc7f8",
   "metadata": {},
   "outputs": [],
   "source": [
    "import numpy as np\n",
    "import scipy as sp\n",
    "import matplotlib as mpl\n",
    "import pandas as pd\n",
    "import csv\n",
    "from scipy.optimize import curve_fit\n",
    "import matplotlib.pyplot as plt\n",
    "from scipy.interpolate import CubicSpline\n",
    "from scipy import integrate\n",
    "from lmfit import minimize, Parameters, Parameter, report_fit\n",
    "from sklearn import datasets\n",
    "from sklearn.linear_model import LinearRegression\n",
    "import random\n",
    "from shapely.geometry import Polygon\n",
    "from shapely.geometry import Point\n"
   ]
  },
  {
   "cell_type": "code",
   "execution_count": 2,
   "id": "3c2515e6-efba-4fcf-829b-65173f4b18bf",
   "metadata": {},
   "outputs": [],
   "source": [
    "def calculate_iou(box_1, box_2):\n",
    "    poly_1 = Polygon(box_1)\n",
    "    poly_2 = Polygon(box_2)\n",
    "    iou = poly_2.intersection(poly_1).area / poly_1.union(poly_2).area\n",
    "    proportion=poly_2.area/(poly_1.union(poly_2).area)\n",
    "    return (iou/proportion)"
   ]
  },
  {
   "cell_type": "code",
   "execution_count": 3,
   "id": "57c28cf2-056c-45b4-ae27-f73f378f6d91",
   "metadata": {},
   "outputs": [],
   "source": [
    "sizematrix=pd.read_csv('sizematrix.csv',header=None)"
   ]
  },
  {
   "cell_type": "code",
   "execution_count": 4,
   "id": "f66a1f16-4efc-4e7b-b68d-025ba615cbdd",
   "metadata": {},
   "outputs": [
    {
     "data": {
      "text/html": [
       "<div>\n",
       "<style scoped>\n",
       "    .dataframe tbody tr th:only-of-type {\n",
       "        vertical-align: middle;\n",
       "    }\n",
       "\n",
       "    .dataframe tbody tr th {\n",
       "        vertical-align: top;\n",
       "    }\n",
       "\n",
       "    .dataframe thead th {\n",
       "        text-align: right;\n",
       "    }\n",
       "</style>\n",
       "<table border=\"1\" class=\"dataframe\">\n",
       "  <thead>\n",
       "    <tr style=\"text-align: right;\">\n",
       "      <th></th>\n",
       "      <th>0</th>\n",
       "    </tr>\n",
       "  </thead>\n",
       "  <tbody>\n",
       "    <tr>\n",
       "      <th>0</th>\n",
       "      <td>2.000</td>\n",
       "    </tr>\n",
       "    <tr>\n",
       "      <th>1</th>\n",
       "      <td>2.018</td>\n",
       "    </tr>\n",
       "    <tr>\n",
       "      <th>2</th>\n",
       "      <td>2.036</td>\n",
       "    </tr>\n",
       "    <tr>\n",
       "      <th>3</th>\n",
       "      <td>2.054</td>\n",
       "    </tr>\n",
       "    <tr>\n",
       "      <th>4</th>\n",
       "      <td>2.072</td>\n",
       "    </tr>\n",
       "    <tr>\n",
       "      <th>...</th>\n",
       "      <td>...</td>\n",
       "    </tr>\n",
       "    <tr>\n",
       "      <th>2996</th>\n",
       "      <td>1992.800</td>\n",
       "    </tr>\n",
       "    <tr>\n",
       "      <th>2997</th>\n",
       "      <td>1994.600</td>\n",
       "    </tr>\n",
       "    <tr>\n",
       "      <th>2998</th>\n",
       "      <td>1996.400</td>\n",
       "    </tr>\n",
       "    <tr>\n",
       "      <th>2999</th>\n",
       "      <td>1998.200</td>\n",
       "    </tr>\n",
       "    <tr>\n",
       "      <th>3000</th>\n",
       "      <td>2000.000</td>\n",
       "    </tr>\n",
       "  </tbody>\n",
       "</table>\n",
       "<p>3001 rows × 1 columns</p>\n",
       "</div>"
      ],
      "text/plain": [
       "             0\n",
       "0        2.000\n",
       "1        2.018\n",
       "2        2.036\n",
       "3        2.054\n",
       "4        2.072\n",
       "...        ...\n",
       "2996  1992.800\n",
       "2997  1994.600\n",
       "2998  1996.400\n",
       "2999  1998.200\n",
       "3000  2000.000\n",
       "\n",
       "[3001 rows x 1 columns]"
      ]
     },
     "execution_count": 4,
     "metadata": {},
     "output_type": "execute_result"
    }
   ],
   "source": [
    "diametermatrix=sizematrix*2\n",
    "diametermatrix"
   ]
  },
  {
   "cell_type": "code",
   "execution_count": 5,
   "id": "4c1503db-f1da-4b5c-9577-00615a0dca67",
   "metadata": {},
   "outputs": [
    {
     "data": {
      "text/html": [
       "<div>\n",
       "<style scoped>\n",
       "    .dataframe tbody tr th:only-of-type {\n",
       "        vertical-align: middle;\n",
       "    }\n",
       "\n",
       "    .dataframe tbody tr th {\n",
       "        vertical-align: top;\n",
       "    }\n",
       "\n",
       "    .dataframe thead th {\n",
       "        text-align: right;\n",
       "    }\n",
       "</style>\n",
       "<table border=\"1\" class=\"dataframe\">\n",
       "  <thead>\n",
       "    <tr style=\"text-align: right;\">\n",
       "      <th></th>\n",
       "      <th>CLASS</th>\n",
       "      <th>DATE</th>\n",
       "      <th>TIME</th>\n",
       "      <th>FRAME</th>\n",
       "      <th>minordiameter</th>\n",
       "      <th>majordiameter</th>\n",
       "      <th>ASPECT RATIO</th>\n",
       "      <th>BOUNDING RECT WIDTH</th>\n",
       "      <th>BOUNDING RECT HEIGHT</th>\n",
       "      <th>BOUNDING RECT DIAGONAL</th>\n",
       "      <th>...</th>\n",
       "      <th>RATIO OF EQUIVALENT RECT SIDES</th>\n",
       "      <th>ELONGATION FACTOR</th>\n",
       "      <th>COMPACTNESS FACTOR</th>\n",
       "      <th>HEYWOOD CIRCULARITY FACTOR</th>\n",
       "      <th>TYPE FACTOR</th>\n",
       "      <th>CIRCULARITY</th>\n",
       "      <th>SPHERICITY</th>\n",
       "      <th>CONVEXITY</th>\n",
       "      <th>Unnamed: 46</th>\n",
       "      <th>Unnamed: 47</th>\n",
       "    </tr>\n",
       "  </thead>\n",
       "  <tbody>\n",
       "    <tr>\n",
       "      <th>0</th>\n",
       "      <td>NaN</td>\n",
       "      <td>01/12/22</td>\n",
       "      <td>11:39:16</td>\n",
       "      <td>74</td>\n",
       "      <td>672.57</td>\n",
       "      <td>861.55</td>\n",
       "      <td>1.28</td>\n",
       "      <td>787.22</td>\n",
       "      <td>686.65</td>\n",
       "      <td>1044.60</td>\n",
       "      <td>...</td>\n",
       "      <td>1.0</td>\n",
       "      <td>1.53</td>\n",
       "      <td>0.79</td>\n",
       "      <td>1.02</td>\n",
       "      <td>0.99</td>\n",
       "      <td>0.98</td>\n",
       "      <td>0.97</td>\n",
       "      <td>0.98</td>\n",
       "      <td>0.0</td>\n",
       "      <td>0.0</td>\n",
       "    </tr>\n",
       "    <tr>\n",
       "      <th>1</th>\n",
       "      <td>NaN</td>\n",
       "      <td>01/12/22</td>\n",
       "      <td>11:39:39</td>\n",
       "      <td>597</td>\n",
       "      <td>673.29</td>\n",
       "      <td>838.88</td>\n",
       "      <td>1.25</td>\n",
       "      <td>794.10</td>\n",
       "      <td>715.20</td>\n",
       "      <td>1068.69</td>\n",
       "      <td>...</td>\n",
       "      <td>1.0</td>\n",
       "      <td>1.41</td>\n",
       "      <td>0.79</td>\n",
       "      <td>1.01</td>\n",
       "      <td>1.00</td>\n",
       "      <td>0.99</td>\n",
       "      <td>0.98</td>\n",
       "      <td>0.98</td>\n",
       "      <td>0.0</td>\n",
       "      <td>0.0</td>\n",
       "    </tr>\n",
       "    <tr>\n",
       "      <th>2</th>\n",
       "      <td>NaN</td>\n",
       "      <td>01/12/22</td>\n",
       "      <td>11:39:41</td>\n",
       "      <td>627</td>\n",
       "      <td>647.27</td>\n",
       "      <td>814.57</td>\n",
       "      <td>1.26</td>\n",
       "      <td>735.39</td>\n",
       "      <td>671.75</td>\n",
       "      <td>996.02</td>\n",
       "      <td>...</td>\n",
       "      <td>1.0</td>\n",
       "      <td>1.43</td>\n",
       "      <td>0.71</td>\n",
       "      <td>1.01</td>\n",
       "      <td>0.99</td>\n",
       "      <td>0.99</td>\n",
       "      <td>0.97</td>\n",
       "      <td>0.98</td>\n",
       "      <td>0.0</td>\n",
       "      <td>0.0</td>\n",
       "    </tr>\n",
       "    <tr>\n",
       "      <th>3</th>\n",
       "      <td>NaN</td>\n",
       "      <td>01/12/22</td>\n",
       "      <td>11:39:42</td>\n",
       "      <td>653</td>\n",
       "      <td>660.34</td>\n",
       "      <td>837.20</td>\n",
       "      <td>1.27</td>\n",
       "      <td>833.01</td>\n",
       "      <td>657.64</td>\n",
       "      <td>1061.32</td>\n",
       "      <td>...</td>\n",
       "      <td>1.0</td>\n",
       "      <td>1.60</td>\n",
       "      <td>0.74</td>\n",
       "      <td>1.01</td>\n",
       "      <td>0.99</td>\n",
       "      <td>0.99</td>\n",
       "      <td>0.97</td>\n",
       "      <td>0.98</td>\n",
       "      <td>0.0</td>\n",
       "      <td>0.0</td>\n",
       "    </tr>\n",
       "    <tr>\n",
       "      <th>4</th>\n",
       "      <td>NaN</td>\n",
       "      <td>01/12/22</td>\n",
       "      <td>11:39:42</td>\n",
       "      <td>653</td>\n",
       "      <td>656.50</td>\n",
       "      <td>811.07</td>\n",
       "      <td>1.24</td>\n",
       "      <td>787.40</td>\n",
       "      <td>668.38</td>\n",
       "      <td>1032.82</td>\n",
       "      <td>...</td>\n",
       "      <td>1.0</td>\n",
       "      <td>1.47</td>\n",
       "      <td>0.80</td>\n",
       "      <td>1.01</td>\n",
       "      <td>0.99</td>\n",
       "      <td>0.99</td>\n",
       "      <td>0.98</td>\n",
       "      <td>0.98</td>\n",
       "      <td>0.0</td>\n",
       "      <td>0.0</td>\n",
       "    </tr>\n",
       "    <tr>\n",
       "      <th>...</th>\n",
       "      <td>...</td>\n",
       "      <td>...</td>\n",
       "      <td>...</td>\n",
       "      <td>...</td>\n",
       "      <td>...</td>\n",
       "      <td>...</td>\n",
       "      <td>...</td>\n",
       "      <td>...</td>\n",
       "      <td>...</td>\n",
       "      <td>...</td>\n",
       "      <td>...</td>\n",
       "      <td>...</td>\n",
       "      <td>...</td>\n",
       "      <td>...</td>\n",
       "      <td>...</td>\n",
       "      <td>...</td>\n",
       "      <td>...</td>\n",
       "      <td>...</td>\n",
       "      <td>...</td>\n",
       "      <td>...</td>\n",
       "      <td>...</td>\n",
       "    </tr>\n",
       "    <tr>\n",
       "      <th>9014</th>\n",
       "      <td>NaN</td>\n",
       "      <td>01/12/22</td>\n",
       "      <td>11:46:36</td>\n",
       "      <td>9790</td>\n",
       "      <td>477.65</td>\n",
       "      <td>594.17</td>\n",
       "      <td>1.24</td>\n",
       "      <td>577.19</td>\n",
       "      <td>496.74</td>\n",
       "      <td>761.51</td>\n",
       "      <td>...</td>\n",
       "      <td>1.0</td>\n",
       "      <td>1.46</td>\n",
       "      <td>0.78</td>\n",
       "      <td>1.01</td>\n",
       "      <td>0.99</td>\n",
       "      <td>0.99</td>\n",
       "      <td>0.98</td>\n",
       "      <td>0.97</td>\n",
       "      <td>0.0</td>\n",
       "      <td>0.0</td>\n",
       "    </tr>\n",
       "    <tr>\n",
       "      <th>9015</th>\n",
       "      <td>NaN</td>\n",
       "      <td>01/12/22</td>\n",
       "      <td>11:46:37</td>\n",
       "      <td>9808</td>\n",
       "      <td>428.08</td>\n",
       "      <td>574.94</td>\n",
       "      <td>1.34</td>\n",
       "      <td>579.83</td>\n",
       "      <td>431.34</td>\n",
       "      <td>722.67</td>\n",
       "      <td>...</td>\n",
       "      <td>1.0</td>\n",
       "      <td>1.69</td>\n",
       "      <td>0.74</td>\n",
       "      <td>1.02</td>\n",
       "      <td>0.96</td>\n",
       "      <td>0.98</td>\n",
       "      <td>0.96</td>\n",
       "      <td>0.97</td>\n",
       "      <td>0.0</td>\n",
       "      <td>0.0</td>\n",
       "    </tr>\n",
       "    <tr>\n",
       "      <th>9016</th>\n",
       "      <td>NaN</td>\n",
       "      <td>01/12/22</td>\n",
       "      <td>11:46:38</td>\n",
       "      <td>9830</td>\n",
       "      <td>662.56</td>\n",
       "      <td>858.04</td>\n",
       "      <td>1.30</td>\n",
       "      <td>832.54</td>\n",
       "      <td>680.32</td>\n",
       "      <td>1075.16</td>\n",
       "      <td>...</td>\n",
       "      <td>1.0</td>\n",
       "      <td>1.60</td>\n",
       "      <td>0.77</td>\n",
       "      <td>1.02</td>\n",
       "      <td>0.98</td>\n",
       "      <td>0.98</td>\n",
       "      <td>0.97</td>\n",
       "      <td>0.98</td>\n",
       "      <td>0.0</td>\n",
       "      <td>0.0</td>\n",
       "    </tr>\n",
       "    <tr>\n",
       "      <th>9017</th>\n",
       "      <td>NaN</td>\n",
       "      <td>01/12/22</td>\n",
       "      <td>11:46:38</td>\n",
       "      <td>9837</td>\n",
       "      <td>619.21</td>\n",
       "      <td>795.15</td>\n",
       "      <td>1.28</td>\n",
       "      <td>787.63</td>\n",
       "      <td>617.30</td>\n",
       "      <td>1000.71</td>\n",
       "      <td>...</td>\n",
       "      <td>1.0</td>\n",
       "      <td>1.57</td>\n",
       "      <td>0.75</td>\n",
       "      <td>1.02</td>\n",
       "      <td>0.98</td>\n",
       "      <td>0.98</td>\n",
       "      <td>0.97</td>\n",
       "      <td>0.98</td>\n",
       "      <td>0.0</td>\n",
       "      <td>0.0</td>\n",
       "    </tr>\n",
       "    <tr>\n",
       "      <th>9018</th>\n",
       "      <td>NaN</td>\n",
       "      <td>01/12/22</td>\n",
       "      <td>11:46:39</td>\n",
       "      <td>9838</td>\n",
       "      <td>567.63</td>\n",
       "      <td>752.78</td>\n",
       "      <td>1.33</td>\n",
       "      <td>659.77</td>\n",
       "      <td>611.35</td>\n",
       "      <td>899.47</td>\n",
       "      <td>...</td>\n",
       "      <td>1.0</td>\n",
       "      <td>1.60</td>\n",
       "      <td>0.72</td>\n",
       "      <td>1.02</td>\n",
       "      <td>0.99</td>\n",
       "      <td>0.98</td>\n",
       "      <td>0.96</td>\n",
       "      <td>0.97</td>\n",
       "      <td>0.0</td>\n",
       "      <td>0.0</td>\n",
       "    </tr>\n",
       "  </tbody>\n",
       "</table>\n",
       "<p>9019 rows × 48 columns</p>\n",
       "</div>"
      ],
      "text/plain": [
       "      CLASS      DATE      TIME  FRAME  minordiameter  majordiameter  \\\n",
       "0       NaN  01/12/22  11:39:16     74         672.57         861.55   \n",
       "1       NaN  01/12/22  11:39:39    597         673.29         838.88   \n",
       "2       NaN  01/12/22  11:39:41    627         647.27         814.57   \n",
       "3       NaN  01/12/22  11:39:42    653         660.34         837.20   \n",
       "4       NaN  01/12/22  11:39:42    653         656.50         811.07   \n",
       "...     ...       ...       ...    ...            ...            ...   \n",
       "9014    NaN  01/12/22  11:46:36   9790         477.65         594.17   \n",
       "9015    NaN  01/12/22  11:46:37   9808         428.08         574.94   \n",
       "9016    NaN  01/12/22  11:46:38   9830         662.56         858.04   \n",
       "9017    NaN  01/12/22  11:46:38   9837         619.21         795.15   \n",
       "9018    NaN  01/12/22  11:46:39   9838         567.63         752.78   \n",
       "\n",
       "      ASPECT RATIO  BOUNDING RECT WIDTH  BOUNDING RECT HEIGHT  \\\n",
       "0             1.28               787.22                686.65   \n",
       "1             1.25               794.10                715.20   \n",
       "2             1.26               735.39                671.75   \n",
       "3             1.27               833.01                657.64   \n",
       "4             1.24               787.40                668.38   \n",
       "...            ...                  ...                   ...   \n",
       "9014          1.24               577.19                496.74   \n",
       "9015          1.34               579.83                431.34   \n",
       "9016          1.30               832.54                680.32   \n",
       "9017          1.28               787.63                617.30   \n",
       "9018          1.33               659.77                611.35   \n",
       "\n",
       "      BOUNDING RECT DIAGONAL  ...  RATIO OF EQUIVALENT RECT SIDES  \\\n",
       "0                    1044.60  ...                             1.0   \n",
       "1                    1068.69  ...                             1.0   \n",
       "2                     996.02  ...                             1.0   \n",
       "3                    1061.32  ...                             1.0   \n",
       "4                    1032.82  ...                             1.0   \n",
       "...                      ...  ...                             ...   \n",
       "9014                  761.51  ...                             1.0   \n",
       "9015                  722.67  ...                             1.0   \n",
       "9016                 1075.16  ...                             1.0   \n",
       "9017                 1000.71  ...                             1.0   \n",
       "9018                  899.47  ...                             1.0   \n",
       "\n",
       "      ELONGATION FACTOR  COMPACTNESS FACTOR  HEYWOOD CIRCULARITY FACTOR  \\\n",
       "0                  1.53                0.79                        1.02   \n",
       "1                  1.41                0.79                        1.01   \n",
       "2                  1.43                0.71                        1.01   \n",
       "3                  1.60                0.74                        1.01   \n",
       "4                  1.47                0.80                        1.01   \n",
       "...                 ...                 ...                         ...   \n",
       "9014               1.46                0.78                        1.01   \n",
       "9015               1.69                0.74                        1.02   \n",
       "9016               1.60                0.77                        1.02   \n",
       "9017               1.57                0.75                        1.02   \n",
       "9018               1.60                0.72                        1.02   \n",
       "\n",
       "      TYPE FACTOR  CIRCULARITY  SPHERICITY  CONVEXITY  Unnamed: 46  \\\n",
       "0            0.99         0.98        0.97       0.98          0.0   \n",
       "1            1.00         0.99        0.98       0.98          0.0   \n",
       "2            0.99         0.99        0.97       0.98          0.0   \n",
       "3            0.99         0.99        0.97       0.98          0.0   \n",
       "4            0.99         0.99        0.98       0.98          0.0   \n",
       "...           ...          ...         ...        ...          ...   \n",
       "9014         0.99         0.99        0.98       0.97          0.0   \n",
       "9015         0.96         0.98        0.96       0.97          0.0   \n",
       "9016         0.98         0.98        0.97       0.98          0.0   \n",
       "9017         0.98         0.98        0.97       0.98          0.0   \n",
       "9018         0.99         0.98        0.96       0.97          0.0   \n",
       "\n",
       "      Unnamed: 47  \n",
       "0             0.0  \n",
       "1             0.0  \n",
       "2             0.0  \n",
       "3             0.0  \n",
       "4             0.0  \n",
       "...           ...  \n",
       "9014          0.0  \n",
       "9015          0.0  \n",
       "9016          0.0  \n",
       "9017          0.0  \n",
       "9018          0.0  \n",
       "\n",
       "[9019 rows x 48 columns]"
      ]
     },
     "execution_count": 5,
     "metadata": {},
     "output_type": "execute_result"
    }
   ],
   "source": [
    "particledata=pd.read_csv('CW32_____RAW_01-12-22_11.40.36.AM.csv')\n",
    "##particledata.rename(columns = {'BOUNDING RECT HEIGHT':'minordiameter', 'MAX FERET DIAMETER':'majordiameter'}, inplace = True)\n",
    "particledata.rename(columns = {'MINOR DIAMETER':'minordiameter', 'MAJOR DIAMETER':'majordiameter'}, inplace = True)\n",
    "particledata"
   ]
  },
  {
   "cell_type": "code",
   "execution_count": 6,
   "id": "ad10921a-675b-49fc-abfa-89e2b6d1bed2",
   "metadata": {},
   "outputs": [
    {
     "data": {
      "text/plain": [
       "array([761.21699719, 751.53779815, 726.11878882, ..., 753.99035586,\n",
       "       701.68492356, 653.68126118])"
      ]
     },
     "execution_count": 6,
     "metadata": {},
     "output_type": "execute_result"
    }
   ],
   "source": [
    "particledata.minordiameter=particledata.minordiameter\n",
    "particledata.majordiameter=particledata.majordiameter\n",
    "particledata.AREA=particledata.AREA\n",
    "areaeqdiameter=np.array(np.sqrt(4*particledata.AREA/np.pi))\n",
    "areaeqdiameter"
   ]
  },
  {
   "cell_type": "code",
   "execution_count": 7,
   "id": "b9bfd406-bd96-4ffa-b3d7-9f038abff633",
   "metadata": {},
   "outputs": [],
   "source": [
    "primary=np.empty((len(areaeqdiameter),1))\n",
    "secondary=np.empty((len(areaeqdiameter),1))\n",
    "for q in range (0,len(areaeqdiameter),1):\n",
    "    #a=(np.pi-2)/8\n",
    "    #b=(majordiameter[q]-minordiameter[q])\n",
    "    #c=((4*majordiameter[q]*minordiameter[q]+(np.pi-2)*minordiameter[q]**2)/8)-area[q]\n",
    "    #x_rc[q]=(-b+np.sqrt((b**2)-4*a*c))/(2*a)\n",
    "    primary[q]=((particledata.majordiameter[q])**2)/(2*particledata.minordiameter[q])\n",
    "    secondary[q]=(particledata.minordiameter[q]**2)/(2*particledata.majordiameter[q])\n",
    "primary=primary.flatten()\n",
    "secondary=secondary.flatten()"
   ]
  },
  {
   "cell_type": "code",
   "execution_count": 8,
   "id": "e1b4bdf8-908f-4e14-89b5-7b40b2a5ac74",
   "metadata": {},
   "outputs": [
    {
     "data": {
      "text/plain": [
       "array([551.81498023, 522.59773233, 512.55603141, ..., 555.59695846,\n",
       "       510.54046487, 499.16118634])"
      ]
     },
     "execution_count": 8,
     "metadata": {},
     "output_type": "execute_result"
    }
   ],
   "source": [
    "primary"
   ]
  },
  {
   "cell_type": "code",
   "execution_count": 9,
   "id": "d8e09d2c-f724-4668-8f5a-22383faeacbd",
   "metadata": {},
   "outputs": [
    {
     "data": {
      "text/plain": [
       "array([262.52127265, 270.1932482 , 257.16540807, ..., 255.80727798,\n",
       "       241.09980765, 214.00928352])"
      ]
     },
     "execution_count": 9,
     "metadata": {},
     "output_type": "execute_result"
    }
   ],
   "source": [
    "secondary"
   ]
  },
  {
   "cell_type": "code",
   "execution_count": 10,
   "id": "80c2d682-14cd-4c7f-af2a-74891755d3d7",
   "metadata": {},
   "outputs": [
    {
     "data": {
      "text/plain": [
       "array([407.887268  , 426.24086822, 403.3333878 , ..., 395.41009613,\n",
       "       374.14863614, 327.60609699])"
      ]
     },
     "execution_count": 10,
     "metadata": {},
     "output_type": "execute_result"
    }
   ],
   "source": [
    "x_rc=np.empty((len(areaeqdiameter),1))\n",
    "for q in range (0,len(areaeqdiameter),1):\n",
    "    a=(np.pi-2)/8\n",
    "    b=(particledata.majordiameter[q]-particledata.minordiameter[q])\n",
    "    c=((4*particledata.majordiameter[q]*particledata.minordiameter[q]+(np.pi-2)*particledata.minordiameter[q]**2)/8)-particledata.AREA[q]\n",
    "    x_rc[q]=(-b+np.sqrt((b**2)-4*a*c))/(2*a)\n",
    "x_rc=x_rc.flatten()\n",
    "x_rc"
   ]
  },
  {
   "cell_type": "code",
   "execution_count": 11,
   "id": "bd758a53-76c8-43fb-8d8c-8a3c08a13e0a",
   "metadata": {},
   "outputs": [
    {
     "data": {
      "text/plain": [
       "array([[551.81498023],\n",
       "       [522.59773233],\n",
       "       [512.55603141],\n",
       "       ...,\n",
       "       [255.80727798],\n",
       "       [510.54046487],\n",
       "       [214.00928352]])"
      ]
     },
     "execution_count": 11,
     "metadata": {},
     "output_type": "execute_result"
    }
   ],
   "source": [
    "diameters=np.empty((len(x_rc),1))\n",
    "for n in range (0,len(x_rc),1):\n",
    "    total=int(primary[n])+int(secondary[n])\n",
    "    binom=random.randint(0, total)\n",
    "    if binom <= int(primary[n]):\n",
    "        diameters[n]=primary[n]\n",
    "    else: \n",
    "        diameters[n]=secondary[n]\n",
    "diameters"
   ]
  },
  {
   "cell_type": "code",
   "execution_count": 12,
   "id": "596f86d8-9e22-41f3-b6a2-1c0e6cda6a3f",
   "metadata": {},
   "outputs": [
    {
     "data": {
      "text/plain": [
       "640.2015977381085"
      ]
     },
     "execution_count": 12,
     "metadata": {},
     "output_type": "execute_result"
    }
   ],
   "source": [
    "average=np.average(particledata.minordiameter)\n",
    "average"
   ]
  },
  {
   "cell_type": "code",
   "execution_count": 13,
   "id": "3beb0099-1708-4984-a5f0-6b88bf5ab3a9",
   "metadata": {},
   "outputs": [
    {
     "data": {
      "text/plain": [
       "array([[2195.],\n",
       "       [2179.],\n",
       "       [2174.],\n",
       "       ...,\n",
       "       [2031.],\n",
       "       [2173.],\n",
       "       [2008.]])"
      ]
     },
     "execution_count": 13,
     "metadata": {},
     "output_type": "execute_result"
    }
   ],
   "source": [
    "indices=np.empty((len(particledata),1))\n",
    "for n in range (0,len(indices),1):\n",
    "    array = np.asarray(diametermatrix)\n",
    "    value=diameters[n]\n",
    "    idx = (np.abs(array - value)).argmin()\n",
    "    indices[n]=idx\n",
    "indices"
   ]
  },
  {
   "cell_type": "code",
   "execution_count": 14,
   "id": "10b5a1f9-59e0-4d0a-8877-32872b921cf6",
   "metadata": {},
   "outputs": [
    {
     "data": {
      "text/plain": [
       "array([[551. ],\n",
       "       [522.2],\n",
       "       [513.2],\n",
       "       ...,\n",
       "       [255.8],\n",
       "       [511.4],\n",
       "       [214.4]])"
      ]
     },
     "execution_count": 14,
     "metadata": {},
     "output_type": "execute_result"
    }
   ],
   "source": [
    "contactradiii=np.empty((len(indices),1))\n",
    "for g in range (0,len(indices),1):\n",
    "    diametermatrix2=np.array(diametermatrix)\n",
    "    contactradiii[g]=diametermatrix2[int(indices[g])]\n",
    "contactradiii"
   ]
  },
  {
   "cell_type": "code",
   "execution_count": 15,
   "id": "dcec3fd5-49f7-42f8-8aa5-d97931df57d6",
   "metadata": {},
   "outputs": [],
   "source": [
    "totalelements=np.empty((3000,1))\n",
    "for x in range(1,3001,1):\n",
    "    with open(r'C:\\Users\\lfeltner\\Dropbox\\CSEE\\ParticleSelector\\UpdatedParticles\\shot{}.inp'.format(\"{:04d}\".format(x))) as p:\n",
    "        for line in p:\n",
    "            pass\n",
    "        last_line = line\n",
    "        totalelements[x-1]=int(last_line[0:4])"
   ]
  },
  {
   "cell_type": "code",
   "execution_count": 16,
   "id": "e0b2567d-6dab-4d4c-82ca-7ffe4d472cfb",
   "metadata": {},
   "outputs": [
    {
     "data": {
      "text/plain": [
       "5"
      ]
     },
     "execution_count": 16,
     "metadata": {},
     "output_type": "execute_result"
    }
   ],
   "source": [
    "length = 5\n",
    "length"
   ]
  },
  {
   "cell_type": "code",
   "execution_count": 17,
   "id": "d179bdfa-a58b-4fa6-94f1-e6932c1af8e5",
   "metadata": {},
   "outputs": [
    {
     "data": {
      "text/plain": [
       "5"
      ]
     },
     "execution_count": 17,
     "metadata": {},
     "output_type": "execute_result"
    }
   ],
   "source": [
    "width=5\n",
    "width"
   ]
  },
  {
   "cell_type": "code",
   "execution_count": 18,
   "id": "d4f2198f-d59d-4f2b-b138-918efb35df11",
   "metadata": {},
   "outputs": [
    {
     "data": {
      "text/plain": [
       "'\\ncoverage=float(input(\"Coverage (%): \"))/100\\ncoverage\\n'"
      ]
     },
     "execution_count": 18,
     "metadata": {},
     "output_type": "execute_result"
    }
   ],
   "source": [
    "'''\n",
    "coverage=float(input(\"Coverage (%): \"))/100\n",
    "coverage\n",
    "'''"
   ]
  },
  {
   "cell_type": "code",
   "execution_count": 19,
   "id": "fa771980-0dde-4e8b-903d-e430fccdaea9",
   "metadata": {},
   "outputs": [
    {
     "name": "stdin",
     "output_type": "stream",
     "text": [
      "Mass flow rate (kg/s): 0.0945\n"
     ]
    }
   ],
   "source": [
    "massflowrate_kg=float(input(\"Mass flow rate (kg/s):\"))\n",
    "## 0.04725 0.0945 0.189 kg/s"
   ]
  },
  {
   "cell_type": "code",
   "execution_count": 20,
   "id": "3cafe7bc-324b-4a13-8dbe-24c8fe2e0739",
   "metadata": {},
   "outputs": [
    {
     "name": "stdin",
     "output_type": "stream",
     "text": [
      "Peening time (s): 20\n"
     ]
    }
   ],
   "source": [
    "peeningtime=float(input(\"Peening time (s):\"))\n",
    "## 40 s"
   ]
  },
  {
   "cell_type": "code",
   "execution_count": 21,
   "id": "f8f2195a-160f-4aeb-9c10-be2ee3efe3e0",
   "metadata": {},
   "outputs": [
    {
     "name": "stdin",
     "output_type": "stream",
     "text": [
      "Total Peened Part Area (mm^2): 49100\n"
     ]
    }
   ],
   "source": [
    "partarea=float(input(\"Total Peened Part Area (mm^2):\"))\n",
    "## 23300 mm^2 or 49100 mm^2"
   ]
  },
  {
   "cell_type": "code",
   "execution_count": 24,
   "id": "d91bf0d7-40d5-4cf9-922d-f471d75f18ac",
   "metadata": {},
   "outputs": [
    {
     "name": "stdin",
     "output_type": "stream",
     "text": [
      "Velocity (mm/s): 105000\n"
     ]
    }
   ],
   "source": [
    "velo=float(input(\"Velocity (mm/s):\"))"
   ]
  },
  {
   "cell_type": "code",
   "execution_count": 25,
   "id": "6c31ae16-6661-4cb8-b3cd-192775c83c14",
   "metadata": {},
   "outputs": [
    {
     "name": "stdin",
     "output_type": "stream",
     "text": [
      "Impact angle (degrees): 90\n"
     ]
    }
   ],
   "source": [
    "theta=float(input(\"Impact angle (degrees):\"))"
   ]
  },
  {
   "cell_type": "code",
   "execution_count": 26,
   "id": "13c34e0a-fec9-4d7a-8739-272d44a183ab",
   "metadata": {},
   "outputs": [
    {
     "data": {
      "text/plain": [
       "0.0009623217922606923"
      ]
     },
     "execution_count": 26,
     "metadata": {},
     "output_type": "execute_result"
    }
   ],
   "source": [
    "particlemass_kg=(length*width/partarea)*peeningtime*massflowrate_kg\n",
    "particlemass_mt=particlemass_kg/1000\n",
    "particlemass_kg"
   ]
  },
  {
   "cell_type": "code",
   "execution_count": 27,
   "id": "5f8bd3aa-7573-4a74-a3dc-c3c5b08581a9",
   "metadata": {},
   "outputs": [
    {
     "name": "stdin",
     "output_type": "stream",
     "text": [
      "Job Name: (No Spaces, Cannot begin with number) CW32_0945_20_49100_105000_90\n"
     ]
    },
    {
     "data": {
      "text/plain": [
       "'CW32_0945_20_49100_105000_90'"
      ]
     },
     "execution_count": 27,
     "metadata": {},
     "output_type": "execute_result"
    }
   ],
   "source": [
    "jobname=input(\"Job Name: (No Spaces, Cannot begin with number)\")\n",
    "jobname"
   ]
  },
  {
   "cell_type": "code",
   "execution_count": 28,
   "id": "5ce17f65-6ae3-4901-8c46-57f62b8c17b3",
   "metadata": {},
   "outputs": [
    {
     "name": "stdin",
     "output_type": "stream",
     "text": [
      "Strip Type: (N, A, or C) A\n"
     ]
    },
    {
     "data": {
      "text/plain": [
       "'A'"
      ]
     },
     "execution_count": 28,
     "metadata": {},
     "output_type": "execute_result"
    }
   ],
   "source": [
    "striptype=input(\"Strip Type: (N, A, or C)\")\n",
    "striptype"
   ]
  },
  {
   "cell_type": "code",
   "execution_count": 29,
   "id": "acd30ec7-de86-407b-b1f2-36d76b787baf",
   "metadata": {},
   "outputs": [
    {
     "data": {
      "text/plain": [
       "'\\ndimplesize=0.0439\\n\\nn_impacts= int(length*width*coverage/dimplesize)\\nn_impacts\\n'"
      ]
     },
     "execution_count": 29,
     "metadata": {},
     "output_type": "execute_result"
    }
   ],
   "source": [
    "'''\n",
    "dimplesize=0.0439\n",
    "\n",
    "n_impacts= int(length*width*coverage/dimplesize)\n",
    "n_impacts\n",
    "'''"
   ]
  },
  {
   "cell_type": "code",
   "execution_count": 30,
   "id": "1cb0120b-3310-479a-a548-24833c655de7",
   "metadata": {},
   "outputs": [
    {
     "data": {
      "text/plain": [
       "'\\nimpacts=random.sample(range(0, len(particledata)-1), n_impacts)\\n#impacts\\n'"
      ]
     },
     "execution_count": 30,
     "metadata": {},
     "output_type": "execute_result"
    }
   ],
   "source": [
    "'''\n",
    "impacts=random.sample(range(0, len(particledata)-1), n_impacts)\n",
    "#impacts\n",
    "'''"
   ]
  },
  {
   "cell_type": "code",
   "execution_count": 31,
   "id": "d6da6326-404e-4a44-b5cb-e5d213ecf9b9",
   "metadata": {},
   "outputs": [
    {
     "data": {
      "text/plain": [
       "7.980000000000001e-09"
      ]
     },
     "execution_count": 31,
     "metadata": {},
     "output_type": "execute_result"
    }
   ],
   "source": [
    "density=7.98*10**-9\n",
    "density"
   ]
  },
  {
   "cell_type": "code",
   "execution_count": 32,
   "id": "0e6acd5d-7474-4686-a226-acf89bbfe614",
   "metadata": {},
   "outputs": [
    {
     "data": {
      "text/plain": [
       "array([1834.])"
      ]
     },
     "execution_count": 32,
     "metadata": {},
     "output_type": "execute_result"
    }
   ],
   "source": [
    "rollingmass=0\n",
    "m=0\n",
    "impacts=np.empty((0,1))\n",
    "while rollingmass < particlemass_mt:\n",
    "    impacts=np.append(impacts,random.sample(range(0, len(particledata)-1), 1))\n",
    "    radius=areaeqdiameter[int(impacts[m])]/2000\n",
    "    particlemass=(4/3)*np.pi*density*radius**3\n",
    "    m=m+1\n",
    "    rollingmass=rollingmass+particlemass\n",
    "impacts=impacts.reshape((len(impacts),1))\n",
    "impacts[5]"
   ]
  },
  {
   "cell_type": "code",
   "execution_count": 33,
   "id": "e5128522-6b08-4ac8-9be2-7609eaf3df57",
   "metadata": {},
   "outputs": [
    {
     "name": "stdout",
     "output_type": "stream",
     "text": [
      "566,9.629842810940003e-07,9.623217922606923e-07\n"
     ]
    }
   ],
   "source": [
    "print(\"{},{},{}\".format(len(impacts), rollingmass, particlemass_mt))"
   ]
  },
  {
   "cell_type": "code",
   "execution_count": 34,
   "id": "8aae79a2-025c-4e03-90b9-41caa44a04aa",
   "metadata": {},
   "outputs": [],
   "source": [
    "def find_nearest(array, value):\n",
    "    array = np.asarray(array)\n",
    "    idx = (np.abs(array - value)).argmin()\n",
    "    return idx"
   ]
  },
  {
   "cell_type": "code",
   "execution_count": 35,
   "id": "7fcc042d-84e5-4508-80ab-fadf3495500e",
   "metadata": {},
   "outputs": [],
   "source": [
    "particles_call=np.empty((len(impacts),1))\n",
    "for x in range (0,len(impacts),1):\n",
    "    particles_call[x]=find_nearest(diametermatrix,diameters[int(impacts[x])])"
   ]
  },
  {
   "cell_type": "code",
   "execution_count": 36,
   "id": "bcc78bf5-69cc-4085-926c-e2527f947847",
   "metadata": {},
   "outputs": [
    {
     "data": {
      "text/plain": [
       "0.32878265974350795"
      ]
     },
     "execution_count": 36,
     "metadata": {},
     "output_type": "execute_result"
    }
   ],
   "source": [
    "radius=areaeqdiameter[int(impacts[5])]/2000\n",
    "radius"
   ]
  },
  {
   "cell_type": "code",
   "execution_count": 37,
   "id": "12aac97c-bf44-4f7e-8cb4-95069836a347",
   "metadata": {},
   "outputs": [],
   "source": [
    "#xcoord=np.empty((len(impacts),1))\n",
    "#ycoord=np.empty((len(impacts),1))\n",
    "#zcoord=np.empty((len(impacts),1))\n",
    "xcoord=[float(random.randint(0, 5000))/1000 for _ in range(len(impacts))]\n",
    "ycoord=[float(random.randint(0, 5000))/1000 for _ in range(len(impacts))]\n",
    "zcoord=[float(random.randint(1500, 3500))/1000 for _ in range(len(impacts))]\n",
    "theta=[np.random.normal(loc=theta, scale=0.1) for _ in range(len(impacts))]\n",
    "phi=[np.random.normal(loc=0, scale=0.1) for _ in range(len(impacts))]\n",
    "#theta=[float(np.random.normal(90, sigma))/1000 for _ in range(len(impacts))]\n",
    "#phi=[float(random.randint(0, 360000))/1000 for _ in range(len(impacts))]\n",
    "\n"
   ]
  },
  {
   "cell_type": "code",
   "execution_count": null,
   "id": "9bd120c5-10c4-4079-8334-e2d327c28bf7",
   "metadata": {},
   "outputs": [],
   "source": []
  },
  {
   "cell_type": "code",
   "execution_count": 38,
   "id": "c37c91ed-fc20-47d3-960b-dc8719a521ce",
   "metadata": {},
   "outputs": [],
   "source": [
    "header=(\"*Heading\\n** Job name: {} Model name: {}\\n** Generated by: LAF INP Generator\\n*Preprint, echo=NO, model=NO, history=NO, contact=NO\\n**\\n** PARTS\\n\".format(jobname,jobname))\n",
    "textheader=(\"x,y,AreaEqDiameter,impactdiameter\\n\")\n",
    "f=open('{}.inp'.format(jobname),'a+')\n",
    "t=open('{}.txt'.format(jobname),'a+')\n",
    "f.write(header)\n",
    "t.write(textheader)\n",
    "for x in range (0,len(impacts),1):\n",
    "    name=\"shot\"\n",
    "    radius=areaeqdiameter[int(impacts[x])]/2000\n",
    "    mass=(4/3)*np.pi*density*radius**3\n",
    "    #############################################################\n",
    "    box=[[0,0],[0,5],[5,5],[5,0]]\n",
    "    contactradius=diameters[x]/2000\n",
    "    circle=Point(xcoord[x],ycoord[x]).buffer(contactradius)\n",
    "    intersect=calculate_iou(box,circle)\n",
    "    mass=mass*intersect\n",
    "    #######################################################################################\n",
    "    temp=(\"**\\n*Part, name={}{}\\n\" .format(name, \"{:05d}\".format(x)))\n",
    "    f.write(temp)\n",
    "    j=int(particles_call[x])\n",
    "    temp=open(r\"C:\\Users\\lfeltner\\Dropbox\\CSEE\\ParticleSelector\\UpdatedParticles - Copy (2)\\{}{}.inp\".format(name, \"{:02d}\".format(j)),'r')\n",
    "    f.write((temp.read()[22:]))\n",
    "    temp=\"*ELSET, ELSET=E{}, GENERATE\\n 1,     {} \\n*Node\\n      1,           0.,           0.,           0.\\n*Nset, nset=shot{}-RefPt_, internal\\n1, \\n*Nset, nset=Set-1\\n 1,\\n*Rigid Body, ref node=shot{}-RefPt_, ELSET=E{}\\n*Element, type=MASS, elset=Set-1_Inertia-1_\\n{}, 1\\n*Mass, elset=Set-1_Inertia-1_\\n{}, \\n\".format(\"{:05d}\".format(x),\"{:04d}\".format(int(totalelements[int(particles_call[x])-1])), \"{:05d}\".format(x),\"{:05d}\".format(x),\"{:05d}\".format(x),\"{:04d}\".format(int(totalelements[int(particles_call[x])-1])),'{:.20f}'.format(mass))\n",
    "    f.write(temp)\n",
    "    temp=(\"*End Part\\n\")\n",
    "    f.write(temp)\n",
    "substrate=open(\"{}_Subs_Part.txt\".format(striptype))\n",
    "f.write(substrate.read())\n",
    "f.write(\"\\n**\\n**\\n** ASSEMBLY\\n**\\n*Assembly, name={}_assembly\\n**  \\n*Instance, name={}_SUBS-1, part={}_SUBS\\n 0,0,-1.295\\n*End Instance\\n\".format(jobname, striptype, striptype))\n",
    "for x in range (0,len(impacts),1):\n",
    "    #xcoord=float(random.randint(0, 5000))/1000\n",
    "    #ycoord=float(random.randint(0, 5000))/1000\n",
    "    #zcoord=float(random.randint(3000, 6000))/1000\n",
    "    radius=areaeqdiameter[int(impacts[x])]/2000\n",
    "    #########################################################################\n",
    "    adjx=xcoord[x]+((zcoord[x]-radius)*np.sin(np.radians(90-theta[x]))*np.cos(np.radians(phi[x])))\n",
    "    adjy=ycoord[x]+((zcoord[x]-radius)*np.sin(np.radians(90-theta[x]))*np.sin(np.radians(phi[x])))\n",
    "    adjz=(zcoord[x]-(0.65*radius))*np.cos(np.radians(90-theta[x]))\n",
    "    ##adjz=(zcoord[x]+1.295-radius)*np.cos(np.radians(90-theta[x]))\n",
    "    ########################################################################\n",
    "    temp=(\"**  \\n*Instance, name=shot{}, part=shot{}\\n{},    {},          {}\\n{},    {},          {}, {},    {},          {}, {}\\n*End Instance\\n\" .format(\"{:05d}\".format(x),\"{:05d}\".format(x), adjx, adjy, adjz, adjx, adjy, adjz, adjx, adjy+1, adjz, int(90)))\n",
    "    f.write(temp)\n",
    "    temp3=(\"{},{},{},{}\\n\".format(xcoord[x],ycoord[x],radius*2,float(contactradiii[int(impacts[x])]/1000)))\n",
    "    t.write(temp3)\n",
    "#temp=open(\"{}_elsets.inp\".format(striptype),'r')\n",
    "#f.write(temp.read())\n",
    "f.write(\"**\\n\")\n",
    "for x in range (0,len(impacts),1):\n",
    "    temp=(\"*Nset, nset=RefPts, instance=shot{}\\n 1,\\n\".format(\"{:05d}\".format(x)))\n",
    "    f.write(temp)\n",
    "for x in range (0,len(impacts),1):\n",
    "    temp=(\"*Nset, nset=SHOT{}_VeloSet, instance=shot{}\\n 1,\\n\".format(\"{:05d}\".format(x),\"{:05d}\".format(x)))\n",
    "    f.write(temp)\n",
    "    ##Assign velocity to each nset based on phi and theta\n",
    "subssets=open(\"{}_Subs_Sets.txt\".format(striptype))\n",
    "f.write(subssets.read())\n",
    "f.write(\"\\n*End Assembly\\n\")\n",
    "materials=open(\"{}_Subs_Mats.txt\".format(striptype))\n",
    "f.write(materials.read())\n",
    "f.write(\"\\n**\\n ** PREDEFINED FIELDS \\n\")\n",
    "for x in range (0,len(impacts),1):\n",
    "    xvelo=-velo*np.sin(np.radians(90-theta[x]))*np.cos(np.radians(phi[x]))\n",
    "    yvelo=-velo*np.sin(np.radians(90-theta[x]))*np.sin(np.radians(phi[x]))\n",
    "    zvelo=-velo*np.cos(np.radians(90-theta[x]))\n",
    "    temp=(\"** \\n** Name: ShotVelo{}   Type: Velocity\\n*Initial Conditions, type=VELOCITY\\nSHOT{}_VeloSet, 1, {}\\nSHOT{}_VeloSet, 2, {}\\nSHOT{}_VeloSet, 3, {}\\n\".format(\"{:05d}\".format(x),\"{:05d}\".format(x), xvelo,\"{:05d}\".format(x), yvelo, \"{:05d}\".format(x), zvelo))\n",
    "    f.write(temp)\n",
    "#temp=open\"BCsAndSteps.inp\", 'r')\n",
    "#f.write(temp.read())\n",
    "ints=open(\"{}_Subs_Ints.txt\".format(striptype))\n",
    "f.write(ints.read())\n",
    "f.close()\n",
    "t.close()\n",
    "#change analytical surface to elset of all elements-rigid body definition"
   ]
  },
  {
   "cell_type": "code",
   "execution_count": null,
   "id": "658cfa85-79f1-4fc5-91c4-054d6eb8c352",
   "metadata": {},
   "outputs": [],
   "source": []
  },
  {
   "cell_type": "code",
   "execution_count": null,
   "id": "800491f2-db99-4827-ad68-4ff8f926895d",
   "metadata": {},
   "outputs": [],
   "source": []
  },
  {
   "cell_type": "code",
   "execution_count": null,
   "id": "efa66464-9834-4f2e-a9f8-af31dae3a883",
   "metadata": {},
   "outputs": [],
   "source": []
  },
  {
   "cell_type": "code",
   "execution_count": null,
   "id": "2ad8d721-dec1-430d-b7a9-67a53da4c454",
   "metadata": {},
   "outputs": [],
   "source": []
  },
  {
   "cell_type": "code",
   "execution_count": null,
   "id": "c8e089fe-f688-4d35-9545-93c746365fce",
   "metadata": {},
   "outputs": [],
   "source": []
  },
  {
   "cell_type": "code",
   "execution_count": null,
   "id": "7c8c3adc-36ee-436e-8d1f-3774949d486d",
   "metadata": {},
   "outputs": [],
   "source": []
  },
  {
   "cell_type": "code",
   "execution_count": null,
   "id": "7b804885-02a0-49d6-875e-523d2cdf75bd",
   "metadata": {},
   "outputs": [],
   "source": []
  },
  {
   "cell_type": "code",
   "execution_count": null,
   "id": "34e25e15-4803-4668-9279-6f52be7219b5",
   "metadata": {},
   "outputs": [],
   "source": []
  },
  {
   "cell_type": "code",
   "execution_count": null,
   "id": "3c7afd0f-dc51-4e49-b455-442fe0948655",
   "metadata": {},
   "outputs": [],
   "source": []
  }
 ],
 "metadata": {
  "kernelspec": {
   "display_name": "Python 3 (ipykernel)",
   "language": "python",
   "name": "python3"
  },
  "language_info": {
   "codemirror_mode": {
    "name": "ipython",
    "version": 3
   },
   "file_extension": ".py",
   "mimetype": "text/x-python",
   "name": "python",
   "nbconvert_exporter": "python",
   "pygments_lexer": "ipython3",
   "version": "3.9.13"
  }
 },
 "nbformat": 4,
 "nbformat_minor": 5
}
