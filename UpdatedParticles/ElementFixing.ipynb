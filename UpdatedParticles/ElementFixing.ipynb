{
 "cells": [
  {
   "cell_type": "code",
   "execution_count": 2,
   "id": "63e88a71-28b1-416b-9cd7-0806cd74f613",
   "metadata": {},
   "outputs": [],
   "source": [
    "import os\n",
    "import sys\n",
    "import fileinput"
   ]
  },
  {
   "cell_type": "code",
   "execution_count": 5,
   "id": "c952899b-24b6-4397-9841-e0db85b1ca44",
   "metadata": {},
   "outputs": [],
   "source": [
    "# Read in the file\n",
    "for x in range (1,3002,1):\n",
    "    with open('shot{}.inp'.format(\"{:04d}\".format(x)), 'r') as file :\n",
    "      filedata = file.read()\n",
    "\n",
    "# Replace the target string\n",
    "    filedata = filedata.replace('T3D2', 'R2D2')\n",
    "    filedata = filedata.replace('CPS3', 'R3D3')\n",
    "\n",
    "# Write the file out again\n",
    "    with open('shot{}.inp'.format(\"{:04d}\".format(x)), 'w') as file:\n",
    "      file.write(filedata)"
   ]
  },
  {
   "cell_type": "code",
   "execution_count": 8,
   "id": "ae25eb72-e3c0-43a5-b232-917ca86c94a8",
   "metadata": {},
   "outputs": [],
   "source": [
    "# Read in the file\n",
    "for x in range (1,3002,1):\n",
    "    with open('shot{}.inp'.format(\"{:04d}\".format(x)), 'r') as file :\n",
    "      filedata = file.read()\n",
    "\n",
    "# Replace the target string\n",
    "    filedata = filedata.replace('*ELEMENT, type=R2D2, ELSET=Line2\\n4, 3, 4\\n5, 4, 5\\n6, 5, 6\\n7, 6, 7\\n8, 7, 8\\n9, 8, 9\\n10, 9, 10\\n11, 10, 11\\n12, 11, 12\\n13, 12, 13\\n14, 13, 14\\n15, 14, 15\\n16, 15, 16\\n17, 16, 17\\n18, 17, 18\\n19, 18, 19\\n20, 19, 20\\n21, 20, 21\\n22, 21, 22\\n23, 22, 23\\n24, 23, 24\\n25, 24, 25\\n26, 25, 26\\n27, 26, 27\\n28, 27, 28\\n29, 28, 29\\n30, 29, 30\\n31, 30, 31\\n32, 31, 32\\n33, 32, 33\\n34, 33, 34\\n35, 34, 2\\n', '\\n')\n",
    "# Write the file out again\n",
    "    with open('shot{}.inp'.format(\"{:04d}\".format(x)), 'w') as file:\n",
    "      file.write(filedata)"
   ]
  },
  {
   "cell_type": "code",
   "execution_count": null,
   "id": "428c6195-a4c9-44c8-8e38-02dc95896bc6",
   "metadata": {},
   "outputs": [],
   "source": []
  }
 ],
 "metadata": {
  "kernelspec": {
   "display_name": "Python 3 (ipykernel)",
   "language": "python",
   "name": "python3"
  },
  "language_info": {
   "codemirror_mode": {
    "name": "ipython",
    "version": 3
   },
   "file_extension": ".py",
   "mimetype": "text/x-python",
   "name": "python",
   "nbconvert_exporter": "python",
   "pygments_lexer": "ipython3",
   "version": "3.9.11"
  }
 },
 "nbformat": 4,
 "nbformat_minor": 5
}
